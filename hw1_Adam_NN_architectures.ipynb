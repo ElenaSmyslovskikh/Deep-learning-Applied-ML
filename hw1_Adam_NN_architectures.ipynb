{
 "cells": [
  {
   "cell_type": "markdown",
   "metadata": {
    "id": "E5CPbPDqmufO"
   },
   "source": [
    "## Домашнее задание №1\n",
    "\n",
    "В этом домашнем задании вы познакомитесь с pytorch сами и сможете попрактиковаться в его применении. \n",
    "\n",
    "#### План:\n",
    "\n",
    "1. Простейшие операции в pytorch\n",
    "2. Пишем Adam и применяем его к ручной модели\n",
    "3. Обучаем свою первую нейросеть"
   ]
  },
  {
   "cell_type": "code",
   "execution_count": null,
   "metadata": {
    "id": "irirQMOvmufQ"
   },
   "outputs": [],
   "source": [
    "import os\n",
    "import sys\n",
    "import math\n",
    "import torch\n",
    "import random\n",
    "import numpy as np\n",
    "from tqdm import tqdm\n",
    "import torch.nn.functional as F\n",
    "import torch.nn as nn\n",
    "import matplotlib.pyplot as plt\n"
   ]
  },
  {
   "cell_type": "markdown",
   "metadata": {
    "id": "onq4vnoumufc"
   },
   "source": [
    "### Простейшие операции на pytorch (2 балла)"
   ]
  },
  {
   "cell_type": "markdown",
   "metadata": {
    "id": "WK19nBUkmufg"
   },
   "source": [
    "**Task**: Cоздайте два случайных тензора (двумерных, не квадратных):"
   ]
  },
  {
   "cell_type": "code",
   "execution_count": null,
   "metadata": {
    "colab": {
     "base_uri": "https://localhost:8080/"
    },
    "id": "rP-Thcspmufj",
    "outputId": "a324d703-fad7-4aeb-97a3-7c0f44fd45f4"
   },
   "outputs": [
    {
     "name": "stdout",
     "output_type": "stream",
     "text": [
      "tensor([[0.7316, 0.4791, 0.4084],\n",
      "        [0.3505, 0.3503, 0.9881],\n",
      "        [0.2063, 0.1912, 0.1311],\n",
      "        [0.2882, 0.4137, 0.5749]])\n",
      "tensor([[0.3909, 0.5986, 0.9000, 0.0765],\n",
      "        [0.8322, 0.9537, 0.3066, 0.5965],\n",
      "        [0.0454, 0.8208, 0.5003, 0.1310]])\n"
     ]
    }
   ],
   "source": [
    "x = torch.rand(4, 3)\n",
    "y = torch.rand(3, 4)\n",
    "\n",
    "print(x)\n",
    "print(y)"
   ]
  },
  {
   "cell_type": "markdown",
   "metadata": {
    "id": "8MuRW5fzmufx"
   },
   "source": [
    "**Task**: Умножьте их друг на друга, результат запишите в третий тензор без использования оператора `=`, для создания третьего тензора предлагается использовать `torch.empty`:"
   ]
  },
  {
   "cell_type": "code",
   "execution_count": null,
   "metadata": {
    "colab": {
     "base_uri": "https://localhost:8080/"
    },
    "id": "kN96lYqXmufz",
    "outputId": "c1883b18-2825-4c27-b14c-e480c3c57ce2"
   },
   "outputs": [
    {
     "name": "stdout",
     "output_type": "stream",
     "text": [
      "tensor([[0.7033, 1.2300, 1.0097, 0.3953],\n",
      "        [0.4734, 1.3549, 0.9173, 0.3652],\n",
      "        [0.2457, 0.4134, 0.3098, 0.1470],\n",
      "        [0.4831, 1.0389, 0.6738, 0.3441]])\n"
     ]
    }
   ],
   "source": [
    "c = torch.empty(4, 4)\n",
    "\n",
    "print(torch.matmul(x, y, out = c))\n"
   ]
  },
  {
   "cell_type": "markdown",
   "metadata": {
    "id": "WaLS-POOmuf6"
   },
   "source": [
    "**Task**: Реализуйте ReLU использую только pytorch, примените его к тензору `x` (запрещено использование модулей torch.nn и его подмодулей, а также функции torch.relu)"
   ]
  },
  {
   "cell_type": "code",
   "execution_count": null,
   "metadata": {
    "id": "-gieVzLamuf7"
   },
   "outputs": [],
   "source": [
    "# вернем 0 для отрицательных значений и сами значения для положительных\n",
    "def relu_forward(x):\n",
    "    a = torch.zeros_like(x) \n",
    "    b = x*(x > 0)\n",
    "    return torch.add(a, b)\n",
    "    pass\n",
    "    \n",
    "assert torch.all(F.relu(x) == relu_forward(x))"
   ]
  },
  {
   "cell_type": "code",
   "execution_count": null,
   "metadata": {
    "colab": {
     "base_uri": "https://localhost:8080/"
    },
    "id": "DXqUXqZdmugB",
    "outputId": "c6ba2fe9-c0d7-4574-b9c0-66274962b3d0"
   },
   "outputs": [
    {
     "name": "stdout",
     "output_type": "stream",
     "text": [
      "tensor([[0.7316, 0.4791, 0.4084],\n",
      "        [0.3505, 0.3503, 0.9881],\n",
      "        [0.2063, 0.1912, 0.1311],\n",
      "        [0.2882, 0.4137, 0.5749]])\n"
     ]
    }
   ],
   "source": [
    "print(relu_forward(x))"
   ]
  },
  {
   "cell_type": "markdown",
   "metadata": {
    "id": "PqBt9rbTmugH"
   },
   "source": [
    "**Task**: Сделайте тоже самое c ELU (запрещено использование модулей torch.nn и его подмодулей):"
   ]
  },
  {
   "cell_type": "code",
   "execution_count": null,
   "metadata": {
    "colab": {
     "base_uri": "https://localhost:8080/"
    },
    "id": "E3bdC3CGmugK",
    "outputId": "c0d9d924-5162-4d5b-a871-630c91057154"
   },
   "outputs": [
    {
     "name": "stdout",
     "output_type": "stream",
     "text": [
      "0.1\n"
     ]
    }
   ],
   "source": [
    "# зададим параметр alpha вручную\n",
    "def elu_forward(x):\n",
    "    alpha = float(input())\n",
    "    a = torch.zeros_like(x)\n",
    "    b = x*(x > 0)\n",
    "    return b + torch.min(a, alpha*(torch.exp(x) - 1))\n",
    "    pass\n",
    "\n",
    "assert torch.allclose(\n",
    "    F.elu(x),\n",
    "    elu_forward(x), 1e-4\n",
    "    )"
   ]
  },
  {
   "cell_type": "markdown",
   "metadata": {
    "id": "53CAgQHgmugN"
   },
   "source": [
    "**Task**: LeakyReLU (запрещено использование модулей torch.nn и его подмодулей):"
   ]
  },
  {
   "cell_type": "code",
   "execution_count": null,
   "metadata": {
    "id": "WFAAUDSSmugP"
   },
   "outputs": [],
   "source": [
    "def lrelu_forward(x, alpha):\n",
    "    a = torch.zeros_like(x)\n",
    "    b = x*(x > 0)\n",
    "    return b + torch.min(a, alpha*x)\n",
    "    pass\n",
    "\n",
    "assert torch.all(F.leaky_relu(x, 0.01) == lrelu_forward(x, 0.01))"
   ]
  },
  {
   "cell_type": "markdown",
   "metadata": {
    "id": "0ahV9bZemugS"
   },
   "source": [
    "**Task**: Теперь перейдем к немного более современным функциям активаций, например Mish, напомним как она выглядит:\n",
    "\n",
    "$$x * tanh(ln(1+e^x))$$\n",
    "\n",
    "(запрещено использование модулей torch.nn и его подмодулей)"
   ]
  },
  {
   "cell_type": "code",
   "execution_count": null,
   "metadata": {
    "id": "5LfroAiLmugU"
   },
   "outputs": [],
   "source": [
    "def mish(x):\n",
    "    return x*torch.tanh(torch.log(1 + torch.exp(x)))\n",
    "    pass"
   ]
  },
  {
   "cell_type": "code",
   "execution_count": null,
   "metadata": {
    "id": "KU7jYuz_mugY"
   },
   "outputs": [],
   "source": [
    "assert torch.allclose(\n",
    "    mish(torch.tensor([1, 1, 1], dtype=torch.float32)), \n",
    "    torch.tensor([0.8651, 0.8651, 0.8651]), \n",
    "    atol=1e-4\n",
    ")\n",
    "\n",
    "assert torch.allclose(\n",
    "    mish(torch.tensor([0.6376, 0.4021, 0.6656, 0.3726], dtype=torch.float64)), \n",
    "    torch.tensor([0.5014, 0.2908, 0.5280, 0.2663], dtype=torch.float64), \n",
    "    atol=1e-4\n",
    ")"
   ]
  },
  {
   "cell_type": "markdown",
   "metadata": {
    "id": "6MWsI_fzmugc"
   },
   "source": [
    "**Task**: Теперь реализуем swish, напомним как она выглядит:\n",
    "\n",
    "$$x * \\sigma(x)$$\n",
    "\n",
    "(запрещено использование модулей torch.nn и его подмодулей)"
   ]
  },
  {
   "cell_type": "code",
   "execution_count": null,
   "metadata": {
    "id": "QxCQTe-Zmugc"
   },
   "outputs": [],
   "source": [
    "def swish(x):\n",
    "    return x*torch.sigmoid(x)\n",
    "    pass"
   ]
  },
  {
   "cell_type": "code",
   "execution_count": null,
   "metadata": {
    "id": "44ufvJcnmugh"
   },
   "outputs": [],
   "source": [
    "assert torch.allclose(\n",
    "    swish(torch.tensor([1, 1, 1], dtype=torch.float32)), \n",
    "    torch.tensor([0.7311, 0.7311, 0.7311]), \n",
    "    atol=1e-4\n",
    ")\n",
    "\n",
    "assert torch.allclose(\n",
    "    swish(torch.tensor([0.6376, 0.4021, 0.6656, 0.3726], dtype=torch.float64)), \n",
    "    torch.tensor([0.4171, 0.2409, 0.4396, 0.2206], dtype=torch.float64), \n",
    "    atol=1e-4\n",
    ")"
   ]
  },
  {
   "cell_type": "markdown",
   "metadata": {
    "id": "qbYkaC5Amugn"
   },
   "source": [
    "### Пишем Adam и применяем его к логистической регрессии (4 балла)\n",
    "\n",
    "\n",
    "В данной секции вам нужно сделать две вещи: \n",
    "\n",
    "1. Написать свой собственный оптимизатор подобно тому, который мы писали на семинаре\n",
    "2. Обучить логистическую регрессию побатчево на картинках из датасета \n",
    "\n",
    "\n",
    "#### Adam\n",
    "\n",
    "\n",
    "$$\n",
    "\\begin{eqnarray}\n",
    "g &=& \\frac{1}{m}\\nabla_w \\sum_i L(f(x_{i};w), y_{i}) \\\\\n",
    "m &=& \\beta_1 m + (1 - \\beta_1) g \\\\\n",
    "v &=& \\beta_2 v + (1 - \\beta_2) diag(gg^{T}) \\\\\n",
    "\\hat{m} &=& \\frac{m}{1 - \\beta_1^{t}} \\\\\n",
    "\\hat{v} &=& \\frac{v}{1 - \\beta_2^{t}} \\\\\n",
    "w &=& w - \\frac{\\eta}{\\sqrt{\\hat{v} + \\epsilon}} \\odot \\hat{m}\n",
    "\\end{eqnarray}\n",
    "$$"
   ]
  },
  {
   "cell_type": "code",
   "execution_count": null,
   "metadata": {
    "id": "MF0xGeiEmugn"
   },
   "outputs": [],
   "source": [
    "# абстрактный класс, не обращайте внимания\n",
    "from torch.optim import Optimizer\n",
    "\n",
    "\n",
    "class InClassOptimizer(Optimizer):\n",
    "    def step(self):\n",
    "        \"\"\"Perform single optimization step.\"\"\"\n",
    "        with torch.no_grad(): # выключим градиенты\n",
    "            for group in self.param_groups:\n",
    "                self._group_step(group)\n",
    "\n",
    "    def _group_step(self, group):\n",
    "        # group ~ dict[str, ...]\n",
    "        \"\"\"\n",
    "        Private helper function to perform\n",
    "        single optimization step on model parameters.\n",
    "        \"\"\"\n",
    "        raise NotImplementedError()"
   ]
  },
  {
   "cell_type": "markdown",
   "metadata": {
    "id": "Hlrk0tXymugq"
   },
   "source": [
    "**Task**: Напишите свою реализацию Adam:"
   ]
  },
  {
   "cell_type": "code",
   "execution_count": null,
   "metadata": {
    "id": "pKYXIxFOkfk1"
   },
   "outputs": [],
   "source": [
    "?torch.optim.Adam"
   ]
  },
  {
   "cell_type": "code",
   "execution_count": null,
   "metadata": {
    "id": "xNs3OkALmugr"
   },
   "outputs": [],
   "source": [
    "class Adam(InClassOptimizer):\n",
    "    def __init__(self, params, lr = 0.001, eps=1e-13, beta_1=0.9, beta_2=0.999):\n",
    "        defaults = dict(lr=lr, eps=eps, beta_1=beta_1, beta_2=beta_2)\n",
    "        super().__init__(params, defaults)\n",
    "\n",
    "    def _group_step(self, group):\n",
    "        # One group contains information about values passed in init\n",
    "        # and model parameters to update\n",
    "        lr = group['lr']\n",
    "        eps = group['eps']\n",
    "        beta_1 = group['beta_1']\n",
    "        beta_2 = group['beta_2']\n",
    "\n",
    "        for param in filter(lambda x: x.grad is not None, group['params']):\n",
    "          self._init_adam_buffer(param)\n",
    "          state = self.state[param]\n",
    "          g = param.grad\n",
    "\n",
    "          m, v, t = self._get_adam_buffer(param)\n",
    "          #v = self._get_adam_buffer(param)\n",
    "          #t = self._get_adam_buffer(param)\n",
    "\n",
    "          state['m'] = beta_1*m + (1-beta_1)*g\n",
    "          state['v'] = beta_2*v + (1-beta_2)*(g**2)\n",
    "          mt = m/ (1-beta_1**t)\n",
    "          vt = v / (1-beta_2**t)\n",
    "          param -= (lr*mt)/(torch.sqrt(vt + eps))\n",
    "          state['t'] += 1\n",
    "\n",
    "          pass\n",
    "    \n",
    "    \n",
    "    def _get_adam_buffer(self, param):\n",
    "\n",
    "        state = self.state[param]\n",
    "\n",
    "        return state['m'], state['v'], state['t']\n",
    "\n",
    "        \"\"\"\n",
    "        Get accumulated gradients for Adam.\n",
    "        Parameters\n",
    "        ----------\n",
    "        param : `torch.Tensor`, required\n",
    "            Model parameter to get accumulated gradeints for Adagrad.\n",
    "        Returns\n",
    "        -------\n",
    "        Accumulated Adam gradients for parameter.\n",
    "        \"\"\"\n",
    "\n",
    "        pass\n",
    "\n",
    "        #делаем массив с аккумулированными градиентами\n",
    "\n",
    "    def _init_adam_buffer(self, param):\n",
    "\n",
    "      state = self.state[param]\n",
    "     \n",
    "      if 'm' not in state:\n",
    "          state['m'] = torch.zeros_like(param)\n",
    "      if 'v' not in state:\n",
    "          state['v'] = torch.zeros_like(param)\n",
    "      if 't' not in state:\n",
    "          state['t'] = 1"
   ]
  },
  {
   "cell_type": "code",
   "execution_count": null,
   "metadata": {
    "id": "rtf8ddxaPd8Y"
   },
   "outputs": [],
   "source": [
    "# запустим модель, чтобы сравнить наш Adam с официальным оптимайзером\n",
    "\n",
    "from sklearn.datasets import make_regression\n",
    "\n",
    "\n",
    "def seed_everything(seed):\n",
    "    # Зафиксировать seed.\n",
    "    # Это понадобится, чтобы убедиться\n",
    "    # в правильности работы нашего Optimizer\n",
    "    random.seed(seed)\n",
    "    os.environ[\"PYTHONHASHSEED\"] = str(seed)\n",
    "    np.random.seed(seed)\n",
    "    torch.manual_seed(seed)\n",
    "    torch.cuda.manual_seed(seed)\n",
    "    torch.backends.cudnn.deterministic = True\n",
    "\n",
    "\n",
    "# make_regression возвращает 2 переменные: данные и таргет для них\n",
    "# так как они возвращаётся как np.array,\n",
    "# вызовем для каждого из них команду torch.from_numpy\n",
    "X, y = map(\n",
    "    lambda x: torch.from_numpy(x).float(),\n",
    "    make_regression(n_samples=200, n_features=2)\n",
    ")\n",
    "\n",
    "\n",
    "def get_model():\n",
    "    # Таким образом, мы при каждом вызове будем получить\n",
    "    # модель с одной и той же инициализацией весов\n",
    "    seed_everything(13)\n",
    "    return torch.nn.Sequential(\n",
    "        torch.nn.Linear(2, 10),\n",
    "        torch.nn.Linear(10, 1)\n",
    "    )"
   ]
  },
  {
   "cell_type": "code",
   "execution_count": null,
   "metadata": {
    "id": "Jm-WbB4sPY9M"
   },
   "outputs": [],
   "source": [
    "def check_optimizer(model, optim, num_iter):\n",
    "    loss = torch.nn.MSELoss()\n",
    "    for i in range(num_iter):\n",
    "        output = loss(model(X), y.unsqueeze(-1))\n",
    "        output.backward()\n",
    "        optim.step()\n",
    "        optim.zero_grad()\n",
    "        if i % 100 == 0:\n",
    "            print(f'Iteration {i} loss:', output.item())"
   ]
  },
  {
   "cell_type": "code",
   "execution_count": null,
   "metadata": {
    "colab": {
     "base_uri": "https://localhost:8080/"
    },
    "id": "5OUcSmPKMWs8",
    "outputId": "8c7df44a-7a9b-47de-8699-c55112e9cd26"
   },
   "outputs": [
    {
     "name": "stdout",
     "output_type": "stream",
     "text": [
      "Iteration 0 loss: 7319.2880859375\n",
      "Iteration 100 loss: 7229.4619140625\n",
      "Iteration 200 loss: 7084.46728515625\n",
      "Iteration 300 loss: 6849.0966796875\n",
      "Iteration 400 loss: 6525.591796875\n",
      "Iteration 500 loss: 6129.91064453125\n",
      "Iteration 600 loss: 5686.94482421875\n",
      "Iteration 700 loss: 5219.1298828125\n",
      "Iteration 800 loss: 4742.00537109375\n",
      "Iteration 900 loss: 4265.69580078125\n"
     ]
    }
   ],
   "source": [
    "model = get_model()\n",
    "optim = Adam(model.parameters(), lr = 0.001)\n",
    "check_optimizer(model, optim, num_iter=1000)\n"
   ]
  },
  {
   "cell_type": "code",
   "execution_count": null,
   "metadata": {
    "colab": {
     "base_uri": "https://localhost:8080/"
    },
    "id": "x8bSjmxfggMz",
    "outputId": "5a4f7c01-b390-4a5d-a76b-e52a20a1af50"
   },
   "outputs": [
    {
     "name": "stdout",
     "output_type": "stream",
     "text": [
      "Iteration 0 loss: 7319.2880859375\n",
      "Iteration 100 loss: 7228.451171875\n",
      "Iteration 200 loss: 7082.50146484375\n",
      "Iteration 300 loss: 6846.60302734375\n",
      "Iteration 400 loss: 6523.00830078125\n",
      "Iteration 500 loss: 6127.716796875\n",
      "Iteration 600 loss: 5685.51123046875\n",
      "Iteration 700 loss: 5218.5517578125\n",
      "Iteration 800 loss: 4742.22265625\n",
      "Iteration 900 loss: 4266.6083984375\n"
     ]
    }
   ],
   "source": [
    "# Сравним с официальным оптимизатором:\n",
    "model = get_model()\n",
    "optim = torch.optim.Adam(model.parameters(), lr = 0.001)\n",
    "check_optimizer(model, optim, num_iter=1000)"
   ]
  },
  {
   "cell_type": "markdown",
   "metadata": {
    "id": "PTTzwNi6mugv"
   },
   "source": [
    "**Task**: Создайте параметры для обучения логистической регрессии, сделаем Xavier ициализацию, которая выглядит следующим образом: \n",
    "\n",
    "$$w \\sim U[-\\frac{\\sqrt{6}}{\\sqrt{n_{in} + n_{out}}}, \\frac{\\sqrt{6}}{\\sqrt{n_{in} + n_{out}}}]$$\n",
    "\n",
    "где: \n",
    "\n",
    "* $n_{in}$ -- размер входа (в нейронах) \n",
    "* $n_{out}$ -- размер выхода (в нейронах)\n",
    "\n",
    "Подумайте над выбором $n_{in}$ и $n_{out}$ самостоятельно. "
   ]
  },
  {
   "cell_type": "code",
   "execution_count": null,
   "metadata": {
    "id": "KPnXfddLRRcJ"
   },
   "outputs": [],
   "source": [
    "import math"
   ]
  },
  {
   "cell_type": "code",
   "execution_count": null,
   "metadata": {
    "colab": {
     "base_uri": "https://localhost:8080/"
    },
    "id": "TUCifHubmugw",
    "outputId": "173f17d0-7f9a-4481-cf12-97da0df4d416"
   },
   "outputs": [
    {
     "name": "stdout",
     "output_type": "stream",
     "text": [
      "torch.Size([10, 784])\n",
      "torch.Size([1, 10])\n"
     ]
    }
   ],
   "source": [
    "# n_in = 28**2 = 784, т.к. n должно быть равно числу входов, т.е. размерности картинки\n",
    "# n_out = 10 (классов, в MNIST датасете)\n",
    "\n",
    "sd = math.sqrt(6/(784+10))\n",
    "weights = torch.tensor(np.random.uniform(-sd, sd, size = (10, 784)), requires_grad = True)\n",
    "intercept = torch.tensor(np.random.uniform(-sd, sd, size = (1,10)), requires_grad = True)\n",
    "\n",
    "print(weights.size())\n",
    "print(intercept.size())\n",
    "# размерность вектора весов - 1 * 784, т.е. для каждого пикселя на изображении, + 10 выходных классов"
   ]
  },
  {
   "cell_type": "markdown",
   "metadata": {
    "id": "V5lRWayJmug2"
   },
   "source": [
    "Загрузим данные и создадим даталоадеры:"
   ]
  },
  {
   "cell_type": "code",
   "execution_count": null,
   "metadata": {
    "id": "zCV2steRmug3"
   },
   "outputs": [],
   "source": [
    "from torch.utils.data import DataLoader\n",
    "import torchvision\n",
    "import torchvision.transforms as transforms\n",
    "\n",
    "fashion_mnist_train = torchvision.datasets.FashionMNIST(\n",
    "    './data',\n",
    "    download=True,\n",
    "    transform=transforms.Compose([transforms.ToTensor()])\n",
    ")\n",
    "\n",
    "train_dataloader = DataLoader(fashion_mnist_train, batch_size = 16, shuffle=True, num_workers=1)\n",
    "\n",
    "fashion_mnist_eval = torchvision.datasets.FashionMNIST(\n",
    "    './data',\n",
    "    train=False,\n",
    "    download=True,\n",
    "    transform=transforms.Compose([transforms.ToTensor()])\n",
    ")\n",
    "eval_dataloader = DataLoader(fashion_mnist_eval, batch_size = 16, shuffle=True, num_workers=1)\n",
    "\n",
    "classes = ('1', '2', '3', '4',\n",
    "           '5', '6', '7', '8', '9', '10')"
   ]
  },
  {
   "cell_type": "code",
   "execution_count": null,
   "metadata": {
    "colab": {
     "base_uri": "https://localhost:8080/"
    },
    "id": "QzKJxjZq3U_Y",
    "outputId": "49fd5d05-901b-437c-c113-b632d5c530ab"
   },
   "outputs": [
    {
     "name": "stdout",
     "output_type": "stream",
     "text": [
      "torch.Size([16, 1, 28, 28])\n",
      "tensor([9, 3, 9, 4, 2, 0, 4, 9, 4, 0, 3, 1, 1, 9, 4, 7])\n"
     ]
    }
   ],
   "source": [
    "for i in train_dataloader:\n",
    "  break\n",
    "print(i[0].shape)\n",
    "print(i[1])\n",
    "# 16 - число изображений в батче"
   ]
  },
  {
   "cell_type": "markdown",
   "metadata": {
    "id": "U86Aol1n8ehW"
   },
   "source": []
  },
  {
   "cell_type": "code",
   "execution_count": null,
   "metadata": {
    "colab": {
     "base_uri": "https://localhost:8080/"
    },
    "id": "RjL1HPvIlypF",
    "outputId": "28bf32a3-1951-4d84-a737-c0ea64af881c"
   },
   "outputs": [
    {
     "data": {
      "text/plain": [
       "torch.Size([1, 28, 28])"
      ]
     },
     "execution_count": 23,
     "metadata": {
      "tags": []
     },
     "output_type": "execute_result"
    }
   ],
   "source": [
    "fashion_mnist_train[12][0].shape\n",
    "# Мы видим, что у нас одноканальные изображения 28*28"
   ]
  },
  {
   "cell_type": "code",
   "execution_count": null,
   "metadata": {
    "colab": {
     "base_uri": "https://localhost:8080/"
    },
    "id": "j0ca2qHnu6d5",
    "outputId": "302cb543-3b46-4bdf-9c23-0c12bfe9460f"
   },
   "outputs": [
    {
     "data": {
      "text/plain": [
       "5"
      ]
     },
     "execution_count": 24,
     "metadata": {
      "tags": []
     },
     "output_type": "execute_result"
    }
   ],
   "source": [
    "fashion_mnist_train[12][1] # ему соответствует класс 5"
   ]
  },
  {
   "cell_type": "markdown",
   "metadata": {
    "id": "_c_l9gtSmug6"
   },
   "source": [
    "\n",
    "Напишите функцию для тренировки логистической регрессии, она должна: \n",
    "    * Делать предсказания \n",
    "    * Считать лосс \n",
    "    * Подсчитывать градиенты\n",
    "    * Делать шаг оптимизации\n",
    "    * Обнулять посчитанные градиенты\n",
    "    * Считать метрики \n",
    "    * Возвращать полученные метрики\n",
    "    \n",
    "После этого предусмотрите возможность визуализировать метрики, чтобы нарисовать картинки, а именно от вас требуется визуализировать: \n",
    "\n",
    "    * Зависимость лосса от количества итераций\n",
    "    * Зависимость доли правильных ответов от количества итераций"
   ]
  },
  {
   "cell_type": "code",
   "execution_count": null,
   "metadata": {
    "colab": {
     "base_uri": "https://localhost:8080/"
    },
    "id": "a-I3Cy4KUJX6",
    "outputId": "f6e4cc44-b686-4229-b24f-0a46070034d4"
   },
   "outputs": [
    {
     "name": "stdout",
     "output_type": "stream",
     "text": [
      "torch.Size([16, 784])\n",
      "torch.Size([16])\n"
     ]
    }
   ],
   "source": [
    "for batch in train_dataloader:\n",
    "  images, labels = batch\n",
    "  images = images.view(-1, 28 * 28) # переведем картинку в вектор\n",
    "\n",
    "print(images.shape)\n",
    "print(labels.shape)"
   ]
  },
  {
   "cell_type": "code",
   "execution_count": null,
   "metadata": {
    "id": "_tpoo1SrXo5H"
   },
   "outputs": [],
   "source": [
    "import torch.nn as nn\n",
    "import torch.nn.functional as F\n",
    "\n",
    "# инициируем модель, которую затем будем использовать\n",
    "\n",
    "criterion = nn.CrossEntropyLoss()\n",
    "\n",
    "optimizer = Adam([weights, intercept])\n",
    "\n",
    "# weights и intercept мы задали ранее при помощи Xavier-инициализации\n",
    "\n",
    "# 1) predictions\n",
    "#2) loss\n",
    "#3) gradients\n",
    "#4) optimization step\n",
    "#5) обнуляем grads\n",
    "#6) metrics\n",
    "#7) return metrics\n",
    "\n",
    "def accuracy(outputs, labels):\n",
    "    _, preds = torch.max(outputs, dim = 1)\n",
    "    return torch.tensor(torch.sum(preds == labels).item()/ len(preds))\n",
    "\n",
    "\n",
    "class LogisticRegression(torch.nn.Module):\n",
    "\n",
    "    def __init__(self):\n",
    "        super(LogisticRegression, self).__init__()\n",
    "        self.linear = torch.nn.Linear(784, 10)\n",
    "\n",
    "    def forward(self, x):\n",
    "        x = x.view(-1, 28*28)\n",
    "        out = torch.sigmoid(self.linear(x))\n",
    "        return out\n",
    "    \n",
    "    def training_step(self, batch):\n",
    "        images, labels = batch \n",
    "        outputs = self(images)   # 1) Предсказания\n",
    "        loss = nn.CrossEntropyLoss()(outputs, labels) # 2) loss\n",
    "        acc = accuracy(outputs, labels)\n",
    "        return preds, loss, acc\n",
    "    \n",
    "    def validation_step(self, batch):\n",
    "        images, labels = batch \n",
    "        out = self(images)    \n",
    "        loss = nn.CrossEntropyLoss()(out, labels)  \n",
    "        acc = accuracy(out, labels)  \n",
    "        return {'val_loss': loss, 'val_acc': acc}\n",
    "\n",
    "    def validation_epoch_end(self, outputs):\n",
    "        batch_losses = [x['val_loss'] for x in outputs]\n",
    "        epoch_loss = torch.stack(batch_losses).mean() # Combine losses\n",
    "        batch_accs = [x['val_acc'] for x in outputs]\n",
    "        epoch_acc = torch.stack(batch_accs).mean()  # Combine accuracies\n",
    "        return {'val_loss': epoch_loss.item(), 'val_acc': epoch_acc.item()}\n",
    "\n",
    "    def epoch_end(self, epoch, result):\n",
    "        print(\"Epoch [{}], val_loss: {:.4f}, val_acc: {:.4f}\".format(epoch, result['val_loss'], result['val_acc']))\n"
   ]
  },
  {
   "cell_type": "code",
   "execution_count": null,
   "metadata": {
    "id": "62ys32aJAn-q"
   },
   "outputs": [],
   "source": [
    "model = LogisticRegression()"
   ]
  },
  {
   "cell_type": "code",
   "execution_count": null,
   "metadata": {
    "id": "KFvwIoXWFeyP"
   },
   "outputs": [],
   "source": [
    "def init_weights(m):\n",
    "    if isinstance(m, torch.nn.Linear):\n",
    "        torch.nn.init.xavier_uniform_(m.weight)\n",
    "        if m.bias: \n",
    "          torch.nn.init.xavier_uniform_(m.bias)\n",
    "\n",
    "init_weights(model)"
   ]
  },
  {
   "cell_type": "code",
   "execution_count": null,
   "metadata": {
    "colab": {
     "base_uri": "https://localhost:8080/"
    },
    "id": "iVPoXLuZ8N4M",
    "outputId": "c6a11bbb-1958-491f-f5ba-9bfc0ea950d4"
   },
   "outputs": [
    {
     "data": {
      "text/plain": [
       "[Parameter containing:\n",
       " tensor([[-0.0128,  0.0325,  0.0095,  ..., -0.0059, -0.0002,  0.0239],\n",
       "         [-0.0181, -0.0089,  0.0039,  ...,  0.0037, -0.0094, -0.0144],\n",
       "         [-0.0256, -0.0283,  0.0129,  ...,  0.0337, -0.0168,  0.0221],\n",
       "         ...,\n",
       "         [ 0.0178, -0.0028,  0.0052,  ...,  0.0083, -0.0148,  0.0092],\n",
       "         [-0.0117, -0.0032,  0.0026,  ...,  0.0092, -0.0256,  0.0328],\n",
       "         [ 0.0175, -0.0018,  0.0315,  ..., -0.0249, -0.0060, -0.0282]],\n",
       "        requires_grad=True), Parameter containing:\n",
       " tensor([ 0.0234, -0.0124, -0.0063,  0.0283,  0.0075, -0.0281, -0.0185,  0.0077,\n",
       "         -0.0352,  0.0217], requires_grad=True)]"
      ]
     },
     "execution_count": 29,
     "metadata": {
      "tags": []
     },
     "output_type": "execute_result"
    }
   ],
   "source": [
    "list(model.parameters()) # выведем веса и bias"
   ]
  },
  {
   "cell_type": "code",
   "execution_count": null,
   "metadata": {
    "colab": {
     "base_uri": "https://localhost:8080/"
    },
    "id": "1qWFXp728l5L",
    "outputId": "b4e6b351-ffe1-4a43-ad0c-88f488d8839e"
   },
   "outputs": [
    {
     "name": "stdout",
     "output_type": "stream",
     "text": [
      "torch.Size([16, 10])\n",
      "tensor([0.5459, 0.5434, 0.4329, 0.4743, 0.6144, 0.4832, 0.4996, 0.5301, 0.5172,\n",
      "        0.5435])\n"
     ]
    }
   ],
   "source": [
    "for images, labels in train_dataloader:\n",
    "  outputs = model(images)\n",
    "  break\n",
    "\n",
    "print(outputs.shape) \n",
    "# применив модель к картинкам в одном батче, мы получаем 16 изображений * 10 классов, \n",
    "# для каждого из которых выдается отклик модели на изображение (предпологаем, что самые высокие значения говорят о том, что с большей \n",
    "# вероятностью изображение будет принадлежать к данному классу)\n",
    "print(outputs[1].data)"
   ]
  },
  {
   "cell_type": "code",
   "execution_count": null,
   "metadata": {
    "colab": {
     "base_uri": "https://localhost:8080/"
    },
    "id": "wo7b8TDQ9wJ9",
    "outputId": "a2a2867d-cc45-4675-e2f9-8c7222a3469d"
   },
   "outputs": [
    {
     "name": "stdout",
     "output_type": "stream",
     "text": [
      "tensor([0.1027, 0.1024, 0.0917, 0.0956, 0.1099, 0.0964, 0.0980, 0.1011, 0.0998,\n",
      "        0.1024])\n",
      "0.9999999403953552\n"
     ]
    }
   ],
   "source": [
    "probs = F.softmax(outputs, dim = 1) \n",
    "# избавляемся от неположительных значений\n",
    "# используя отношение e^(значение)/сумма всех значений, мы находим вероятности принадлежности к каждому классу\n",
    "print(probs[1].data)\n",
    "print(torch.sum(probs[1]).item()) # проверяем, что сумма вероятностей = 1 "
   ]
  },
  {
   "cell_type": "code",
   "execution_count": null,
   "metadata": {
    "colab": {
     "base_uri": "https://localhost:8080/"
    },
    "id": "UJiBBjeZ_JeY",
    "outputId": "a2641f99-0038-4565-dda6-0e1d6b3b6bff"
   },
   "outputs": [
    {
     "name": "stdout",
     "output_type": "stream",
     "text": [
      "tensor([0, 4, 4, 0, 0, 0, 0, 4, 0, 7, 0, 9, 0, 7, 0, 0])\n"
     ]
    }
   ],
   "source": [
    "# preds\n",
    "max_probs, preds = torch.max(probs, dim = 1) # назначаем каждому изображению предсказание класса, у которого наибольшая вероятность\n",
    "print(preds) # 16 предсказанных классов для батча"
   ]
  },
  {
   "cell_type": "code",
   "execution_count": null,
   "metadata": {
    "id": "IYX9S2XEI8OI"
   },
   "outputs": [],
   "source": [
    "def evaluate(model, eval_dataloader):\n",
    "    outputs = [model.validation_step(batch) for batch in eval_dataloader]\n",
    "    return model.validation_epoch_end(outputs) # 5) Считаем метрики\n",
    "\n",
    "\n",
    "def fit(epochs, model, train_dataloader, eval_dataloader, opt_func = optimizer):\n",
    "    \n",
    "    optimizer = Adam(model.parameters())\n",
    "    #epochs\n",
    "    train_size = 0\n",
    "    train_loss = 0\n",
    "    train_acc = 0\n",
    "    \n",
    "    history = []\n",
    "\n",
    "    accuracies = []\n",
    "    losses = []\n",
    "    train_losses = []\n",
    "    train_accs = []\n",
    "\n",
    "    for epoch in range(epochs): \n",
    "        for batch in train_dataloader:\n",
    "            optimizer.zero_grad() # 3) Обнуляем градиенты\n",
    "            out, loss, acc = model.training_step(batch)\n",
    "            train_losses.append(loss.item())\n",
    "            train_accs.append(acc)\n",
    "            loss.backward()\n",
    "            optimizer.step() # 4) Optimization step\n",
    "            \n",
    "        result = evaluate(model, eval_dataloader)\n",
    "        model.epoch_end(epoch, result)\n",
    "        history.append(result)\n",
    "\n",
    "    return history, train_losses, train_accs"
   ]
  },
  {
   "cell_type": "code",
   "execution_count": null,
   "metadata": {
    "colab": {
     "base_uri": "https://localhost:8080/"
    },
    "id": "hDvnTIfSKO-2",
    "outputId": "5b123710-3f0b-4da0-e27a-6a916961200a"
   },
   "outputs": [
    {
     "name": "stdout",
     "output_type": "stream",
     "text": [
      "Epoch [0], val_loss: 1.6249, val_acc: 0.7726\n",
      "Epoch [1], val_loss: 1.6068, val_acc: 0.8084\n",
      "Epoch [2], val_loss: 1.5993, val_acc: 0.8181\n",
      "Epoch [3], val_loss: 1.5945, val_acc: 0.8251\n",
      "Epoch [4], val_loss: 1.5925, val_acc: 0.8238\n",
      "Epoch [5], val_loss: 1.5897, val_acc: 0.8253\n",
      "Epoch [6], val_loss: 1.5892, val_acc: 0.8310\n",
      "Epoch [7], val_loss: 1.5871, val_acc: 0.8296\n",
      "Epoch [8], val_loss: 1.5863, val_acc: 0.8299\n",
      "Epoch [9], val_loss: 1.5851, val_acc: 0.8300\n",
      "Epoch [10], val_loss: 1.5846, val_acc: 0.8340\n",
      "Epoch [11], val_loss: 1.5838, val_acc: 0.8321\n",
      "Epoch [12], val_loss: 1.5845, val_acc: 0.8316\n",
      "Epoch [13], val_loss: 1.5827, val_acc: 0.8339\n",
      "Epoch [14], val_loss: 1.5828, val_acc: 0.8337\n",
      "Epoch [15], val_loss: 1.5820, val_acc: 0.8346\n",
      "Epoch [16], val_loss: 1.5808, val_acc: 0.8352\n",
      "Epoch [17], val_loss: 1.5808, val_acc: 0.8329\n",
      "Epoch [18], val_loss: 1.5819, val_acc: 0.8302\n",
      "Epoch [19], val_loss: 1.5806, val_acc: 0.8364\n",
      "Epoch [20], val_loss: 1.5824, val_acc: 0.8320\n",
      "Epoch [21], val_loss: 1.5809, val_acc: 0.8335\n",
      "Epoch [22], val_loss: 1.5799, val_acc: 0.8356\n",
      "Epoch [23], val_loss: 1.5802, val_acc: 0.8348\n",
      "Epoch [24], val_loss: 1.5792, val_acc: 0.8352\n",
      "Epoch [25], val_loss: 1.5790, val_acc: 0.8355\n",
      "Epoch [26], val_loss: 1.5795, val_acc: 0.8350\n",
      "Epoch [27], val_loss: 1.5793, val_acc: 0.8363\n",
      "Epoch [28], val_loss: 1.5821, val_acc: 0.8324\n",
      "Epoch [29], val_loss: 1.5799, val_acc: 0.8339\n"
     ]
    }
   ],
   "source": [
    "# посмотрим на то, как растет качество модели в ходе спуска\n",
    "history_1, losses_1 , accuracy_1 = fit(30, model, train_dataloader, eval_dataloader)"
   ]
  },
  {
   "cell_type": "markdown",
   "metadata": {
    "id": "sEQA6aZCmuhE"
   },
   "source": [
    "#### Вопросы к секции: \n",
    "\n",
    "* Своими словами и без математики объясните благодаря чему Adam дает несмещенную оценку на квадрат градиента\n",
    "* Когда модель начала переобучаться? Как вы это поняли? Сделайте визуализацию и докажите свою точку зрения."
   ]
  },
  {
   "cell_type": "markdown",
   "metadata": {
    "id": "Mp_LUKy6t0XJ"
   },
   "source": [
    "1) Изначально в формуле параметров **m** и **v** закладывается умножение градиента на разность 1 и некоторой величины *beta* - тем самым, определяется \"вес\" градиента в значении параметра, и, как мы можем увидеть, с каждой последующей итерацией он будет увеличиваться по мере того, как уменьшается *beta*, а значит, оптимизация будет медленной в начале (чтобы избежать сильного смещения, и чтобы у нас не возникло слишком быстрой сходимости), и более быстрой в конце. \n",
    "\n",
    "Когда мы изменяем m и v на скорректированные параметры **mt** и **vt**, мы закладываем несмещенность оценки - т.е. реальная величина нашего параметра равна математическому ожиданию. Мы знаем, что v равняется квадрату градиента, помноженному на сумму коэффициентов (*beta*) от i до t. Если мы попробуем вычислить матожидание **v**, то увидим, что оно будет равно 1-*beta_2*^t. Таким образом, при вычислении **vt**, мы делим на стандартное отклонение, что и позволяет получить несмещенные оценки. То же самое с mt. Иными словами, деление исходных параметров на (1 - *beta*) позволяет избежать bias-а на первых шагах оптимизации. \n",
    "\n",
    "2) Модель начинает переобучаться в момент между 10 и 15 шагами (epoch), и мы можем увидеть на двух последних графиках, что кривая начинает вести себя менее стабильно, что говорит о большой вариации. Мы также видим это в выдаче - после 11-13 эпох loss не всегда убывает за счет большей ошибки. Поэтому accuracy перестает расти."
   ]
  },
  {
   "cell_type": "code",
   "execution_count": null,
   "metadata": {
    "id": "mIegKVDDehHH"
   },
   "outputs": [],
   "source": [
    "import matplotlib.pyplot as plt\n",
    "from IPython.display import clear_output\n",
    "\n",
    "def plot_history(train_history, val_history, title='loss'):\n",
    "    plt.figure()\n",
    "    plt.title('{}'.format(title))\n",
    "    plt.plot(train_history, label='train', zorder=1)\n",
    "    \n",
    "    points = np.array(val_history)\n",
    "    steps = list(range(0, len(train_history) + 1, int(len(train_history) / len(val_history))))[1:]\n",
    "    \n",
    "    plt.scatter(steps, val_history, marker='*', s=180, c='red', label='val', zorder=2)\n",
    "    plt.xlabel('train steps')\n",
    "    \n",
    "    plt.legend(loc='best')\n",
    "    plt.grid()\n",
    "\n",
    "    plt.show()"
   ]
  },
  {
   "cell_type": "code",
   "execution_count": null,
   "metadata": {
    "colab": {
     "base_uri": "https://localhost:8080/",
     "height": 295
    },
    "id": "KoIbP7smeiPW",
    "outputId": "c4c0dd6f-6010-4a76-fe20-57df2de9a387"
   },
   "outputs": [
    {
     "data": {
      "image/png": "[encoded data removed]",
      "text/plain": [
       "<Figure size 432x288 with 1 Axes>"
      ]
     },
     "metadata": {
      "needs_background": "light",
      "tags": []
     },
     "output_type": "display_data"
    }
   ],
   "source": [
    "accuracies = [result['val_acc'] for result in history_1]\n",
    "\n",
    "plot_history(accuracy_1, accuracies, \"Iter - Accuracy\")\n",
    "\n",
    "# простите, я не смогла отказаться от коммунистических звездочек\n"
   ]
  },
  {
   "cell_type": "code",
   "execution_count": null,
   "metadata": {
    "colab": {
     "base_uri": "https://localhost:8080/",
     "height": 295
    },
    "id": "XDaPyiw1eiHo",
    "outputId": "1f2e0524-56e5-4597-a7e7-b556d9926f6e"
   },
   "outputs": [
    {
     "data": {
      "image/png": "[encoded data removed]",
      "text/plain": [
       "<Figure size 432x288 with 1 Axes>"
      ]
     },
     "metadata": {
      "needs_background": "light",
      "tags": []
     },
     "output_type": "display_data"
    }
   ],
   "source": [
    "loss = [result['val_loss'] for result in history_1]\n",
    "\n",
    "plot_history(losses_1, loss, \"Iter - Loss\")"
   ]
  },
  {
   "cell_type": "code",
   "execution_count": null,
   "metadata": {
    "colab": {
     "base_uri": "https://localhost:8080/",
     "height": 295
    },
    "id": "TYDN3vYqeh-P",
    "outputId": "10a90300-3c9c-40c8-f1df-d05c1c60a467"
   },
   "outputs": [
    {
     "data": {
      "image/png": "[encoded data removed]",
      "text/plain": [
       "<Figure size 432x288 with 1 Axes>"
      ]
     },
     "metadata": {
      "needs_background": "light",
      "tags": []
     },
     "output_type": "display_data"
    }
   ],
   "source": [
    "accuracies = [result['val_acc'] for result in history_1]\n",
    "plt.plot(accuracies, '-x')\n",
    "plt.xlabel('epoch')\n",
    "plt.ylabel('accuracy')\n",
    "plt.title('Accuracy by epoch');"
   ]
  },
  {
   "cell_type": "code",
   "execution_count": null,
   "metadata": {
    "colab": {
     "base_uri": "https://localhost:8080/",
     "height": 295
    },
    "id": "aJbMNHqHeugQ",
    "outputId": "f6bf8ea2-1705-45f7-a4a4-3b55da1e843a"
   },
   "outputs": [
    {
     "data": {
      "image/png": "[encoded data removed]",
      "text/plain": [
       "<Figure size 432x288 with 1 Axes>"
      ]
     },
     "metadata": {
      "needs_background": "light",
      "tags": []
     },
     "output_type": "display_data"
    }
   ],
   "source": [
    "accuracies = [result['val_loss'] for result in history_1]\n",
    "plt.plot(accuracies, '-x')\n",
    "plt.xlabel('epoch')\n",
    "plt.ylabel('Loss')\n",
    "plt.title('Loss by epoch');"
   ]
  },
  {
   "cell_type": "markdown",
   "metadata": {
    "id": "YVgsM3YWmuhG"
   },
   "source": [
    "### Моя первая нейросеть (4 балла)"
   ]
  },
  {
   "cell_type": "markdown",
   "metadata": {
    "id": "kKpijm6MmuhH"
   },
   "source": [
    "В данной секции вам нужно сделать следующие вещи: \n",
    "\n",
    "* Реализовать три разных архитектуры нейросетей. Эти архитектуры должны принципиально отличаться друг от друга. Разрешается одной из архитекур брать полностью полносвязную модель. Остальные две должны быть сверточными и сильно отличаться друг от друга. К примеру, одна из таких архитектур может быть VGG подобная сеть, а другая ResNet подобная архитектура. \n",
    "\n",
    "* Написать цикл для обучения которым можно обучать все три модели без изменений кода\n",
    "\n",
    "* Попробовать каждую модель с двумя оптимизаторами: RMSprop и SGD with momentum\n",
    "\n",
    "* Визуализировать результаты перфоманса каждой модели (две метрики минимум для каждого сетапа, например, лосс и долю правильных ответов). В данном пункте мы ждем от вас визуализацию зависимости метрики от номера итерации обучения.\n",
    "\n",
    "* Сделать выводы какие были модели были лучше и как вы думаете почему?"
   ]
  },
  {
   "cell_type": "code",
   "execution_count": null,
   "metadata": {
    "id": "tUeNUp9y_e03"
   },
   "outputs": [],
   "source": [
    "class Accuracy:\n",
    "    def __init__(self):\n",
    "        self._all_predictions = torch.LongTensor()\n",
    "        self._all_labels = torch.LongTensor()\n",
    "\n",
    "    def __call__(self, predictions, labels):\n",
    "        # predictions ~ (batch size)\n",
    "        # labels ~ (batch size)\n",
    "        self._all_predictions = torch.cat([\n",
    "            self._all_predictions,\n",
    "            predictions\n",
    "        ], dim=0)\n",
    "        self._all_labels = torch.cat([\n",
    "            self._all_labels,\n",
    "            labels\n",
    "        ], dim=0)\n",
    "\n",
    "    def get_metric(self, reset=False):\n",
    "        correct = (self._all_predictions == self._all_labels).long()\n",
    "        accuracy = correct.sum().float() / self._all_labels.size(0)\n",
    "        if reset:\n",
    "            self.reset()\n",
    "        return accuracy\n",
    "\n",
    "    def reset(self):\n",
    "        self._all_predictions = torch.LongTensor()\n",
    "        self._all_labels = torch.LongTensor()"
   ]
  },
  {
   "cell_type": "code",
   "execution_count": null,
   "metadata": {
    "id": "bulCAlJdBBOB"
   },
   "outputs": [],
   "source": [
    "# В общем виде для сетей (encoder), Accuracy считаем одинаково\n",
    "class ModelAssess(torch.nn.Module):\n",
    "    def __init__(self, encoder):\n",
    "        super().__init__()\n",
    "        self._encoder = encoder\n",
    "        self._accuracy = Accuracy()\n",
    "\n",
    "    def forward(self, images, target=None):\n",
    "        # images ~ (batch size, num channels, height, width)\n",
    "        # target ~ (batch size)\n",
    "        # output ~ (batch size, num classes)\n",
    "        output = self._encoder(images)\n",
    "        output_dict = {'logits': output, 'probs': torch.softmax(output, dim=-1)}\n",
    "        output_dict['preds'] = torch.argmax(output_dict['probs'], dim=-1)\n",
    "        if target is not None:\n",
    "            # CrossEntropy Loss\n",
    "            log_softmax = torch.log_softmax(output, dim=-1)\n",
    "            output_dict['loss'] = F.nll_loss(log_softmax, target)\n",
    "            self._accuracy(\n",
    "                output_dict['preds'].cpu(),\n",
    "                target.cpu()\n",
    "            )\n",
    "        return output_dict\n",
    "\n",
    "    def decode(self, output_dict):\n",
    "        # output_dict ~ dict with torch.Tensors (output_dict from forward)\n",
    "        return [idx_to_label[int(x)] for x in output_dict['preds']]\n",
    "\n",
    "    def get_metrics(self, reset=False):\n",
    "        return {'accuracy': self._accuracy.get_metric(reset)}"
   ]
  },
  {
   "cell_type": "code",
   "execution_count": null,
   "metadata": {
    "id": "CIOA4hBrBBCM"
   },
   "outputs": [],
   "source": [
    "# (conv + relu + pool)*2 - residual net\n",
    "class AsResNetEncoder(torch.nn.Module):\n",
    "  def __init__(self, dropout=0.4):\n",
    "        super().__init__()\n",
    "        self.conv1 = torch.nn.Sequential(\n",
    "            torch.nn.Conv2d(in_channels=1, out_channels=32, kernel_size=3),\n",
    "            torch.nn.ReLU(),\n",
    "            torch.nn.MaxPool2d(kernel_size=2),\n",
    "        )\n",
    "        self.conv2 = torch.nn.Sequential(\n",
    "            torch.nn.Conv2d(in_channels=32, out_channels=64, kernel_size=3),\n",
    "            torch.nn.ReLU(),\n",
    "            torch.nn.MaxPool2d(kernel_size=2),\n",
    "        )\n",
    "        self.linear1 = torch.nn.Linear(in_features=64 * 5 * 5, out_features=128)\n",
    "        self.linear2 = torch.nn.Linear(in_features=128, out_features=64)\n",
    "        self.output = torch.nn.Linear(in_features=64, out_features=10)\n",
    "        self.dropout = torch.nn.Dropout(p=dropout)\n",
    "        # --------------\n",
    "\n",
    "  def forward(self, x):\n",
    "\n",
    "        x = self.conv1(x)\n",
    "        x = self.conv2(x)\n",
    "        x = x.view(x.size(0), -1)\n",
    "        x = F.relu(self.linear1(x))\n",
    "        x = self.dropout(x)\n",
    "        x = F.relu(self.linear2(x))\n",
    "        return self.output(x)"
   ]
  },
  {
   "cell_type": "code",
   "execution_count": null,
   "metadata": {
    "id": "tDnZItALZuyA"
   },
   "outputs": [],
   "source": [
    "model_resnet = AsResNetEncoder()"
   ]
  },
  {
   "cell_type": "code",
   "execution_count": null,
   "metadata": {
    "id": "iyl9w6Z3o-Mn"
   },
   "outputs": [],
   "source": [
    "device = torch.device(\"cuda:0\" if torch.cuda.is_available() else \"cpu\")"
   ]
  },
  {
   "cell_type": "code",
   "execution_count": null,
   "metadata": {
    "colab": {
     "base_uri": "https://localhost:8080/"
    },
    "id": "9fXPF_gnZvoP",
    "outputId": "bed9500c-a8a8-49ff-fde7-78c62fc9399d"
   },
   "outputs": [
    {
     "data": {
      "text/plain": [
       "AsResNetEncoder(\n",
       "  (conv1): Sequential(\n",
       "    (0): Conv2d(1, 32, kernel_size=(3, 3), stride=(1, 1))\n",
       "    (1): ReLU()\n",
       "    (2): MaxPool2d(kernel_size=2, stride=2, padding=0, dilation=1, ceil_mode=False)\n",
       "  )\n",
       "  (conv2): Sequential(\n",
       "    (0): Conv2d(32, 64, kernel_size=(3, 3), stride=(1, 1))\n",
       "    (1): ReLU()\n",
       "    (2): MaxPool2d(kernel_size=2, stride=2, padding=0, dilation=1, ceil_mode=False)\n",
       "  )\n",
       "  (linear1): Linear(in_features=1600, out_features=128, bias=True)\n",
       "  (linear2): Linear(in_features=128, out_features=64, bias=True)\n",
       "  (output): Linear(in_features=64, out_features=10, bias=True)\n",
       "  (dropout): Dropout(p=0.4, inplace=False)\n",
       ")"
      ]
     },
     "execution_count": 137,
     "metadata": {
      "tags": []
     },
     "output_type": "execute_result"
    }
   ],
   "source": [
    "model_resnet.to(device) # 2 сверточных слоя + 2 полносвязных"
   ]
  },
  {
   "cell_type": "code",
   "execution_count": null,
   "metadata": {
    "id": "BivTwb-sMpRG"
   },
   "outputs": [],
   "source": [
    "# VGG\n",
    "\n",
    "# conv + ReLU\n",
    "# max pooling\n",
    "# FC + ReLU\n",
    "# softmax\n",
    "\n",
    "class VGGencoder(torch.nn.Module):\n",
    "    def __init__(self, dropout=0.4):\n",
    "        super().__init__()\n",
    "        #self._input_batch_norm = torch.nn.BatchNorm2d(1) \n",
    "        self.avgpool = nn.AdaptiveAvgPool2d((7, 7))\n",
    "        self.layer = nn.Sequential(\n",
    "            nn.Linear(512 * 7 * 7, 4096),\n",
    "            nn.ReLU(True),\n",
    "            nn.Dropout(),\n",
    "            nn.Linear(4096, 4096),\n",
    "            nn.ReLU(True),\n",
    "            nn.Dropout(),\n",
    "            nn.Linear(4096, 10),\n",
    "        )\n",
    "\n",
    "    def forward(self, x):\n",
    "        x = self.features(x)\n",
    "        x = self.avgpool(x)\n",
    "        x = torch.flatten(x, 1)\n",
    "        x = self.layer(x)\n",
    "        return x"
   ]
  },
  {
   "cell_type": "code",
   "execution_count": null,
   "metadata": {
    "id": "JJtJBO_fMpGX"
   },
   "outputs": [],
   "source": [
    "model_vgg = VGGencoder()"
   ]
  },
  {
   "cell_type": "code",
   "execution_count": null,
   "metadata": {
    "colab": {
     "base_uri": "https://localhost:8080/"
    },
    "id": "0A8TIkrPSa_Q",
    "outputId": "01230648-ea4a-44bd-8970-fa2620265ccd"
   },
   "outputs": [
    {
     "data": {
      "text/plain": [
       "VGGencoder(\n",
       "  (avgpool): AdaptiveAvgPool2d(output_size=(7, 7))\n",
       "  (layer): Sequential(\n",
       "    (0): Linear(in_features=25088, out_features=4096, bias=True)\n",
       "    (1): ReLU(inplace=True)\n",
       "    (2): Dropout(p=0.5, inplace=False)\n",
       "    (3): Linear(in_features=4096, out_features=4096, bias=True)\n",
       "    (4): ReLU(inplace=True)\n",
       "    (5): Dropout(p=0.5, inplace=False)\n",
       "    (6): Linear(in_features=4096, out_features=10, bias=True)\n",
       "  )\n",
       ")"
      ]
     },
     "execution_count": 140,
     "metadata": {
      "tags": []
     },
     "output_type": "execute_result"
    }
   ],
   "source": [
    "model_vgg.to(device)"
   ]
  },
  {
   "cell_type": "code",
   "execution_count": null,
   "metadata": {
    "id": "t9gAoKyDkuCF"
   },
   "outputs": [],
   "source": [
    "# только полносвязные слои\n",
    "\n",
    "class SimpleCNN(nn.Module):\n",
    "    def __init__(self):\n",
    "        super(SimpleCNN, self).__init__()\n",
    "        self.fc1 = nn.Linear(16 * 5 * 5, 120)\n",
    "        self.fc2 = nn.Linear(120, 84)\n",
    "        self._output = torch.nn.Linear(in_features=84, out_features=10)\n",
    "\n",
    "    def forward(self, x):\n",
    "        x = x.view(-1, 16 * 5 * 5) # Растягиваем данные из тензора в вектор\n",
    "        x = F.relu(self.fc1(x))\n",
    "        x = F.relu(self.fc2(x))\n",
    "        x = self.fc3(x)\n",
    "        return self._output(x)\n",
    "\n",
    "model_fc = SimpleCNN()"
   ]
  },
  {
   "cell_type": "code",
   "execution_count": null,
   "metadata": {
    "colab": {
     "base_uri": "https://localhost:8080/"
    },
    "id": "pO1_OKdPkt0_",
    "outputId": "e176ffcd-aec5-4b84-9e35-89239d72a98e"
   },
   "outputs": [
    {
     "data": {
      "text/plain": [
       "SimpleCNN(\n",
       "  (fc1): Linear(in_features=400, out_features=120, bias=True)\n",
       "  (fc2): Linear(in_features=120, out_features=84, bias=True)\n",
       "  (_output): Linear(in_features=84, out_features=10, bias=True)\n",
       ")"
      ]
     },
     "execution_count": 142,
     "metadata": {
      "tags": []
     },
     "output_type": "execute_result"
    }
   ],
   "source": [
    "model_fc.to(device)"
   ]
  },
  {
   "cell_type": "code",
   "execution_count": null,
   "metadata": {
    "id": "LKtP9wltAU7S"
   },
   "outputs": [],
   "source": [
    "def train_epoch(\n",
    "    model,\n",
    "    data_loader,\n",
    "    optimizer,\n",
    "    return_losses=False,\n",
    "    return_acc=False,\n",
    "    device='cpu'\n",
    "):\n",
    "  model = model.train()\n",
    "  total_loss = 0\n",
    "  num_batches = 0\n",
    "  total_acc=0\n",
    "  all_acc=[]\n",
    "  all_losses = []\n",
    "  with tqdm(total=len(data_loader), file=sys.stdout) as prbar:\n",
    "      for batch in data_loader:\n",
    "            # Move Batch to GPU\n",
    "          batch = [x.to(device='cpu') for x in batch]\n",
    "          output_dict = model(*batch)\n",
    "          loss = output_dict['loss']\n",
    "            # Update weights\n",
    "          loss.backward()\n",
    "          optimizer.step()\n",
    "          optimizer.zero_grad()\n",
    "            # Update descirption for tqdm\n",
    "          metrics = model.get_metrics()\n",
    "          prbar.set_description(\n",
    "              f\"Loss: {round(loss.item(), 4)} \"\n",
    "              f\"Accuracy: {round(metrics['accuracy'].item(), 4)}\"\n",
    "          )\n",
    "          prbar.update(1)\n",
    "          total_acc += metrics['accuracy'].item()\n",
    "          total_loss += loss.item()\n",
    "          num_batches += 1\n",
    "          all_losses.append(loss.detach().item())\n",
    "          all_acc.append(metrics['accuracy'].detach().item())\n",
    "  metrics = {'loss': total_loss / num_batches}\n",
    "  metrics.update(model.get_metrics(reset=True))\n",
    "  if return_losses:\n",
    "    return metrics, all_losses, all_acc\n",
    "  else:\n",
    "    return metrics\n"
   ]
  },
  {
   "cell_type": "code",
   "execution_count": null,
   "metadata": {
    "id": "XNBr3rNnAUvn"
   },
   "outputs": [],
   "source": [
    "def validate(model, data_loader, device = 'cpu'):\n",
    "    model = model.eval()\n",
    "    total_loss = 0\n",
    "    num_batches = 0\n",
    "\n",
    "    with tqdm(total=len(data_loader), file=sys.stdout) as prbar:\n",
    "        for batch in data_loader:\n",
    "            batch = [x.to(device= 'cpu') for x in batch]\n",
    "            output_dict = model(*batch)\n",
    "            loss = output_dict['loss']\n",
    "            metrics = model.get_metrics()\n",
    "            prbar.set_description(\n",
    "                f\"Loss: {round(loss.item(), 4)} \"\n",
    "                f\"Accuracy: {round(metrics['accuracy'].item(), 4)}\"\n",
    "            )\n",
    "            prbar.update(1)\n",
    "            total_loss += loss.item()\n",
    "            num_batches += 1\n",
    "            one_epoch_ac=metrics['accuracy'].detach().item()\n",
    "    metrics = {'loss': total_loss / num_batches}\n",
    "    metrics.update(model.get_metrics(reset=True))\n",
    "    return metrics, one_epoch_ac"
   ]
  },
  {
   "cell_type": "code",
   "execution_count": null,
   "metadata": {
    "id": "LyjC7g2w7keK"
   },
   "outputs": [],
   "source": [
    "def fit(\n",
    "    model,\n",
    "    epochs,\n",
    "    train_data_loader,\n",
    "    validation_data_loader,\n",
    "    optimizer,\n",
    "    device\n",
    "):\n",
    "    all_train_losses = []\n",
    "    epoch_train_losses = []\n",
    "    epoch_eval_losses = []\n",
    "    all_train_acc=[]\n",
    "    epoch_eval_acc=[]\n",
    "    for epoch in range(epochs):\n",
    "        # Train step\n",
    "        print(f\"Train Epoch: {epoch}\")\n",
    "        train_metrics, one_epoch_train_losses, one_epoch_train_acc = train_epoch(\n",
    "            model=model,\n",
    "            data_loader=train_data_loader,\n",
    "            optimizer=optimizer,\n",
    "            return_losses=True,\n",
    "            device = device)\n",
    "        # Save Train losses\n",
    "        all_train_losses.extend(one_epoch_train_losses)\n",
    "        all_train_acc.extend(one_epoch_train_acc)\n",
    "        epoch_train_losses.append(train_metrics['loss'])\n",
    "        # Eval step\n",
    "        print(f\"Validation Epoch: {epoch}\")\n",
    "        with torch.no_grad():\n",
    "            validation_metrics,one_epoch_ac = validate(\n",
    "                model=model,\n",
    "                data_loader=validation_data_loader,\n",
    "            )\n",
    "        # Save eval losses\n",
    "        epoch_eval_acc.append(one_epoch_ac)\n",
    "        epoch_eval_losses.append(validation_metrics['loss'])\n",
    "    return LossInfo(all_train_losses, epoch_train_losses, epoch_eval_losses, all_train_acc,epoch_eval_acc)"
   ]
  },
  {
   "cell_type": "code",
   "execution_count": null,
   "metadata": {
    "id": "n6DuDBOJmuhL"
   },
   "outputs": [],
   "source": [
    "from collections import defaultdict\n",
    "\n",
    "idx_to_label = defaultdict(lambda: 'All', {\n",
    "    0: \"T-shirt/Top\",\n",
    "    1: \"Trouser\",\n",
    "    2: \"Pullover\",\n",
    "    3: \"Dress\",\n",
    "    4: \"Coat\",\n",
    "    5: \"Sandal\",\n",
    "    6: \"Shirt\",\n",
    "    7: \"Sneaker\",\n",
    "    8: \"Bag\",\n",
    "    9: \"Ankle Boot\"\n",
    "})"
   ]
  },
  {
   "cell_type": "code",
   "execution_count": null,
   "metadata": {
    "id": "yTXqfpuzo3cz"
   },
   "outputs": [],
   "source": [
    "from collections import namedtuple\n",
    "\n",
    "LossInfo = namedtuple(\n",
    "    'LossInfo', \n",
    "    ['full_train_losses', 'train_epoch_losses', 'eval_epoch_losses',\"all_train_acc\",\"epoch_eval_acc\"]\n",
    ")"
   ]
  },
  {
   "cell_type": "code",
   "execution_count": null,
   "metadata": {
    "colab": {
     "base_uri": "https://localhost:8080/"
    },
    "id": "w-xpWgBXNSTt",
    "outputId": "ae365c71-33f3-4532-ca65-a32582018982"
   },
   "outputs": [
    {
     "data": {
      "text/plain": [
       "False"
      ]
     },
     "execution_count": 177,
     "metadata": {
      "tags": []
     },
     "output_type": "execute_result"
    }
   ],
   "source": [
    "torch.cuda.is_available()"
   ]
  },
  {
   "cell_type": "code",
   "execution_count": null,
   "metadata": {
    "colab": {
     "base_uri": "https://localhost:8080/"
    },
    "id": "qq0VsWf0oBpB",
    "outputId": "1c6036b6-f60a-4dd3-8ba3-d6990730bf61"
   },
   "outputs": [
    {
     "name": "stdout",
     "output_type": "stream",
     "text": [
      "Train Epoch: 0\n",
      "Loss: 0.5588 Accuracy: 0.5922: 100%|██████████| 3750/3750 [01:33<00:00, 40.03it/s]\n",
      "Validation Epoch: 0\n",
      "Loss: 0.5517 Accuracy: 0.7522: 100%|██████████| 625/625 [00:08<00:00, 73.57it/s]\n",
      "Train Epoch: 1\n",
      "Loss: 0.5484 Accuracy: 0.7681: 100%|██████████| 3750/3750 [01:32<00:00, 40.34it/s]\n",
      "Validation Epoch: 1\n",
      "Loss: 0.4462 Accuracy: 0.8034: 100%|██████████| 625/625 [00:08<00:00, 71.69it/s]\n",
      "Train Epoch: 2\n",
      "Loss: 0.438 Accuracy: 0.8066: 100%|██████████| 3750/3750 [01:32<00:00, 40.33it/s]\n",
      "Validation Epoch: 2\n",
      "Loss: 0.2577 Accuracy: 0.8276: 100%|██████████| 625/625 [00:08<00:00, 73.10it/s]\n",
      "Train Epoch: 3\n",
      "Loss: 0.1109 Accuracy: 0.8301: 100%|██████████| 3750/3750 [01:33<00:00, 40.20it/s]\n",
      "Validation Epoch: 3\n",
      "Loss: 0.2521 Accuracy: 0.8349: 100%|██████████| 625/625 [00:08<00:00, 69.86it/s]\n",
      "Train Epoch: 4\n",
      "Loss: 0.2114 Accuracy: 0.8472: 100%|██████████| 3750/3750 [01:33<00:00, 40.27it/s]\n",
      "Validation Epoch: 4\n",
      "  0%|          | 0/625 [00:00<?, ?it/s]"
     ]
    }
   ],
   "source": [
    "# цикл обучения\n",
    "\n",
    "model = ModelAssess(encoder = AsResNetEncoder()).to(device)\n",
    "sgd_momentum_loss_info = fit(\n",
    "    model=model,\n",
    "    epochs=50,\n",
    "    train_data_loader=train_dataloader,\n",
    "    validation_data_loader=eval_dataloader,\n",
    "    optimizer=torch.optim.SGD(model.parameters(),momentum=0.9,lr=0.001),\n",
    "    device = 'cpu')\n",
    "\n",
    "# accuracy 0.57"
   ]
  },
  {
   "cell_type": "code",
   "execution_count": null,
   "metadata": {
    "colab": {
     "base_uri": "https://localhost:8080/",
     "height": 726
    },
    "id": "EJmytunIpFeT",
    "outputId": "a7b73f70-539e-446b-9046-f120ff0988a0"
   },
   "outputs": [
    {
     "name": "stdout",
     "output_type": "stream",
     "text": [
      "Train Epoch: 0\n",
      "Loss: 0.3919 Accuracy: 0.7687: 100%|██████████| 3750/3750 [01:40<00:00, 37.15it/s]\n",
      "Validation Epoch: 0\n",
      "Loss: 0.3518 Accuracy: 0.8064: 100%|██████████| 625/625 [00:08<00:00, 76.60it/s]\n",
      "Train Epoch: 1\n",
      "Loss: 0.2284 Accuracy: 0.7996: 100%|██████████| 3750/3750 [01:59<00:00, 31.47it/s]\n",
      "Validation Epoch: 1\n",
      "Loss: 0.7182 Accuracy: 0.8048: 100%|██████████| 625/625 [00:08<00:00, 77.16it/s]\n",
      "Train Epoch: 2\n",
      "Loss: 0.5297 Accuracy: 0.8012: 100%|██████████| 3750/3750 [02:25<00:00, 25.70it/s]\n",
      "Validation Epoch: 2\n",
      "Loss: 0.4987 Accuracy: 0.7979: 100%|██████████| 625/625 [00:09<00:00, 68.65it/s]\n",
      "Train Epoch: 3\n",
      "Loss: 0.1358 Accuracy: 0.7979: 100%|██████████| 3750/3750 [02:28<00:00, 25.18it/s]\n",
      "Validation Epoch: 3\n",
      "Loss: 0.4853 Accuracy: 0.8088: 100%|██████████| 625/625 [00:08<00:00, 69.95it/s]\n",
      "Train Epoch: 4\n",
      "Loss: 0.3363 Accuracy: 0.7932:  53%|█████▎    | 1980/3750 [01:18<01:09, 25.36it/s]\n"
     ]
    },
    {
     "ename": "KeyboardInterrupt",
     "evalue": "ignored",
     "output_type": "error",
     "traceback": [
      "\u001b[0;31m---------------------------------------------------------------------------\u001b[0m",
      "\u001b[0;31mKeyboardInterrupt\u001b[0m                         Traceback (most recent call last)",
      "\u001b[0;32m<ipython-input-174-1451b9aab74c>\u001b[0m in \u001b[0;36m<module>\u001b[0;34m()\u001b[0m\n\u001b[1;32m      6\u001b[0m     \u001b[0mvalidation_data_loader\u001b[0m\u001b[0;34m=\u001b[0m\u001b[0meval_dataloader\u001b[0m\u001b[0;34m,\u001b[0m\u001b[0;34m\u001b[0m\u001b[0;34m\u001b[0m\u001b[0m\n\u001b[1;32m      7\u001b[0m     \u001b[0moptimizer\u001b[0m\u001b[0;34m=\u001b[0m\u001b[0mtorch\u001b[0m\u001b[0;34m.\u001b[0m\u001b[0moptim\u001b[0m\u001b[0;34m.\u001b[0m\u001b[0mRMSprop\u001b[0m\u001b[0;34m(\u001b[0m\u001b[0mmodel\u001b[0m\u001b[0;34m.\u001b[0m\u001b[0mparameters\u001b[0m\u001b[0;34m(\u001b[0m\u001b[0;34m)\u001b[0m\u001b[0;34m,\u001b[0m\u001b[0mmomentum\u001b[0m\u001b[0;34m=\u001b[0m\u001b[0;36m0.9\u001b[0m\u001b[0;34m,\u001b[0m\u001b[0mlr\u001b[0m\u001b[0;34m=\u001b[0m\u001b[0;36m0.001\u001b[0m\u001b[0;34m)\u001b[0m\u001b[0;34m,\u001b[0m\u001b[0;34m\u001b[0m\u001b[0;34m\u001b[0m\u001b[0m\n\u001b[0;32m----> 8\u001b[0;31m     device = 'cpu')\n\u001b[0m\u001b[1;32m      9\u001b[0m \u001b[0;34m\u001b[0m\u001b[0m\n\u001b[1;32m     10\u001b[0m \u001b[0;31m# accuracy 0.74\u001b[0m\u001b[0;34m\u001b[0m\u001b[0;34m\u001b[0m\u001b[0;34m\u001b[0m\u001b[0m\n",
      "\u001b[0;32m<ipython-input-170-17017ec6b356>\u001b[0m in \u001b[0;36mfit\u001b[0;34m(model, epochs, train_data_loader, validation_data_loader, optimizer, device)\u001b[0m\n\u001b[1;32m     20\u001b[0m             \u001b[0moptimizer\u001b[0m\u001b[0;34m=\u001b[0m\u001b[0moptimizer\u001b[0m\u001b[0;34m,\u001b[0m\u001b[0;34m\u001b[0m\u001b[0;34m\u001b[0m\u001b[0m\n\u001b[1;32m     21\u001b[0m             \u001b[0mreturn_losses\u001b[0m\u001b[0;34m=\u001b[0m\u001b[0;32mTrue\u001b[0m\u001b[0;34m,\u001b[0m\u001b[0;34m\u001b[0m\u001b[0;34m\u001b[0m\u001b[0m\n\u001b[0;32m---> 22\u001b[0;31m             device = device)\n\u001b[0m\u001b[1;32m     23\u001b[0m         \u001b[0;31m# Save Train losses\u001b[0m\u001b[0;34m\u001b[0m\u001b[0;34m\u001b[0m\u001b[0;34m\u001b[0m\u001b[0m\n\u001b[1;32m     24\u001b[0m         \u001b[0mall_train_losses\u001b[0m\u001b[0;34m.\u001b[0m\u001b[0mextend\u001b[0m\u001b[0;34m(\u001b[0m\u001b[0mone_epoch_train_losses\u001b[0m\u001b[0;34m)\u001b[0m\u001b[0;34m\u001b[0m\u001b[0;34m\u001b[0m\u001b[0m\n",
      "\u001b[0;32m<ipython-input-167-fe3acfbf24ef>\u001b[0m in \u001b[0;36mtrain_epoch\u001b[0;34m(model, data_loader, optimizer, return_losses, return_acc, device)\u001b[0m\n\u001b[1;32m     17\u001b[0m             \u001b[0;31m# Move Batch to GPU\u001b[0m\u001b[0;34m\u001b[0m\u001b[0;34m\u001b[0m\u001b[0;34m\u001b[0m\u001b[0m\n\u001b[1;32m     18\u001b[0m           \u001b[0mbatch\u001b[0m \u001b[0;34m=\u001b[0m \u001b[0;34m[\u001b[0m\u001b[0mx\u001b[0m\u001b[0;34m.\u001b[0m\u001b[0mto\u001b[0m\u001b[0;34m(\u001b[0m\u001b[0mdevice\u001b[0m\u001b[0;34m=\u001b[0m\u001b[0;34m'cpu'\u001b[0m\u001b[0;34m)\u001b[0m \u001b[0;32mfor\u001b[0m \u001b[0mx\u001b[0m \u001b[0;32min\u001b[0m \u001b[0mbatch\u001b[0m\u001b[0;34m]\u001b[0m\u001b[0;34m\u001b[0m\u001b[0;34m\u001b[0m\u001b[0m\n\u001b[0;32m---> 19\u001b[0;31m           \u001b[0moutput_dict\u001b[0m \u001b[0;34m=\u001b[0m \u001b[0mmodel\u001b[0m\u001b[0;34m(\u001b[0m\u001b[0;34m*\u001b[0m\u001b[0mbatch\u001b[0m\u001b[0;34m)\u001b[0m\u001b[0;34m\u001b[0m\u001b[0;34m\u001b[0m\u001b[0m\n\u001b[0m\u001b[1;32m     20\u001b[0m           \u001b[0mloss\u001b[0m \u001b[0;34m=\u001b[0m \u001b[0moutput_dict\u001b[0m\u001b[0;34m[\u001b[0m\u001b[0;34m'loss'\u001b[0m\u001b[0;34m]\u001b[0m\u001b[0;34m\u001b[0m\u001b[0;34m\u001b[0m\u001b[0m\n\u001b[1;32m     21\u001b[0m             \u001b[0;31m# Update weights\u001b[0m\u001b[0;34m\u001b[0m\u001b[0;34m\u001b[0m\u001b[0;34m\u001b[0m\u001b[0m\n",
      "\u001b[0;32m/usr/local/lib/python3.6/dist-packages/torch/nn/modules/module.py\u001b[0m in \u001b[0;36m_call_impl\u001b[0;34m(self, *input, **kwargs)\u001b[0m\n\u001b[1;32m    720\u001b[0m             \u001b[0mresult\u001b[0m \u001b[0;34m=\u001b[0m \u001b[0mself\u001b[0m\u001b[0;34m.\u001b[0m\u001b[0m_slow_forward\u001b[0m\u001b[0;34m(\u001b[0m\u001b[0;34m*\u001b[0m\u001b[0minput\u001b[0m\u001b[0;34m,\u001b[0m \u001b[0;34m**\u001b[0m\u001b[0mkwargs\u001b[0m\u001b[0;34m)\u001b[0m\u001b[0;34m\u001b[0m\u001b[0;34m\u001b[0m\u001b[0m\n\u001b[1;32m    721\u001b[0m         \u001b[0;32melse\u001b[0m\u001b[0;34m:\u001b[0m\u001b[0;34m\u001b[0m\u001b[0;34m\u001b[0m\u001b[0m\n\u001b[0;32m--> 722\u001b[0;31m             \u001b[0mresult\u001b[0m \u001b[0;34m=\u001b[0m \u001b[0mself\u001b[0m\u001b[0;34m.\u001b[0m\u001b[0mforward\u001b[0m\u001b[0;34m(\u001b[0m\u001b[0;34m*\u001b[0m\u001b[0minput\u001b[0m\u001b[0;34m,\u001b[0m \u001b[0;34m**\u001b[0m\u001b[0mkwargs\u001b[0m\u001b[0;34m)\u001b[0m\u001b[0;34m\u001b[0m\u001b[0;34m\u001b[0m\u001b[0m\n\u001b[0m\u001b[1;32m    723\u001b[0m         for hook in itertools.chain(\n\u001b[1;32m    724\u001b[0m                 \u001b[0m_global_forward_hooks\u001b[0m\u001b[0;34m.\u001b[0m\u001b[0mvalues\u001b[0m\u001b[0;34m(\u001b[0m\u001b[0;34m)\u001b[0m\u001b[0;34m,\u001b[0m\u001b[0;34m\u001b[0m\u001b[0;34m\u001b[0m\u001b[0m\n",
      "\u001b[0;32m<ipython-input-133-0900165b4632>\u001b[0m in \u001b[0;36mforward\u001b[0;34m(self, images, target)\u001b[0m\n\u001b[1;32m     10\u001b[0m         \u001b[0;31m# target ~ (batch size)\u001b[0m\u001b[0;34m\u001b[0m\u001b[0;34m\u001b[0m\u001b[0;34m\u001b[0m\u001b[0m\n\u001b[1;32m     11\u001b[0m         \u001b[0;31m# output ~ (batch size, num classes)\u001b[0m\u001b[0;34m\u001b[0m\u001b[0;34m\u001b[0m\u001b[0;34m\u001b[0m\u001b[0m\n\u001b[0;32m---> 12\u001b[0;31m         \u001b[0moutput\u001b[0m \u001b[0;34m=\u001b[0m \u001b[0mself\u001b[0m\u001b[0;34m.\u001b[0m\u001b[0m_encoder\u001b[0m\u001b[0;34m(\u001b[0m\u001b[0mimages\u001b[0m\u001b[0;34m)\u001b[0m\u001b[0;34m\u001b[0m\u001b[0;34m\u001b[0m\u001b[0m\n\u001b[0m\u001b[1;32m     13\u001b[0m         \u001b[0moutput_dict\u001b[0m \u001b[0;34m=\u001b[0m \u001b[0;34m{\u001b[0m\u001b[0;34m'logits'\u001b[0m\u001b[0;34m:\u001b[0m \u001b[0moutput\u001b[0m\u001b[0;34m,\u001b[0m \u001b[0;34m'probs'\u001b[0m\u001b[0;34m:\u001b[0m \u001b[0mtorch\u001b[0m\u001b[0;34m.\u001b[0m\u001b[0msoftmax\u001b[0m\u001b[0;34m(\u001b[0m\u001b[0moutput\u001b[0m\u001b[0;34m,\u001b[0m \u001b[0mdim\u001b[0m\u001b[0;34m=\u001b[0m\u001b[0;34m-\u001b[0m\u001b[0;36m1\u001b[0m\u001b[0;34m)\u001b[0m\u001b[0;34m}\u001b[0m\u001b[0;34m\u001b[0m\u001b[0;34m\u001b[0m\u001b[0m\n\u001b[1;32m     14\u001b[0m         \u001b[0moutput_dict\u001b[0m\u001b[0;34m[\u001b[0m\u001b[0;34m'preds'\u001b[0m\u001b[0;34m]\u001b[0m \u001b[0;34m=\u001b[0m \u001b[0mtorch\u001b[0m\u001b[0;34m.\u001b[0m\u001b[0margmax\u001b[0m\u001b[0;34m(\u001b[0m\u001b[0moutput_dict\u001b[0m\u001b[0;34m[\u001b[0m\u001b[0;34m'probs'\u001b[0m\u001b[0;34m]\u001b[0m\u001b[0;34m,\u001b[0m \u001b[0mdim\u001b[0m\u001b[0;34m=\u001b[0m\u001b[0;34m-\u001b[0m\u001b[0;36m1\u001b[0m\u001b[0;34m)\u001b[0m\u001b[0;34m\u001b[0m\u001b[0;34m\u001b[0m\u001b[0m\n",
      "\u001b[0;32m/usr/local/lib/python3.6/dist-packages/torch/nn/modules/module.py\u001b[0m in \u001b[0;36m_call_impl\u001b[0;34m(self, *input, **kwargs)\u001b[0m\n\u001b[1;32m    720\u001b[0m             \u001b[0mresult\u001b[0m \u001b[0;34m=\u001b[0m \u001b[0mself\u001b[0m\u001b[0;34m.\u001b[0m\u001b[0m_slow_forward\u001b[0m\u001b[0;34m(\u001b[0m\u001b[0;34m*\u001b[0m\u001b[0minput\u001b[0m\u001b[0;34m,\u001b[0m \u001b[0;34m**\u001b[0m\u001b[0mkwargs\u001b[0m\u001b[0;34m)\u001b[0m\u001b[0;34m\u001b[0m\u001b[0;34m\u001b[0m\u001b[0m\n\u001b[1;32m    721\u001b[0m         \u001b[0;32melse\u001b[0m\u001b[0;34m:\u001b[0m\u001b[0;34m\u001b[0m\u001b[0;34m\u001b[0m\u001b[0m\n\u001b[0;32m--> 722\u001b[0;31m             \u001b[0mresult\u001b[0m \u001b[0;34m=\u001b[0m \u001b[0mself\u001b[0m\u001b[0;34m.\u001b[0m\u001b[0mforward\u001b[0m\u001b[0;34m(\u001b[0m\u001b[0;34m*\u001b[0m\u001b[0minput\u001b[0m\u001b[0;34m,\u001b[0m \u001b[0;34m**\u001b[0m\u001b[0mkwargs\u001b[0m\u001b[0;34m)\u001b[0m\u001b[0;34m\u001b[0m\u001b[0;34m\u001b[0m\u001b[0m\n\u001b[0m\u001b[1;32m    723\u001b[0m         for hook in itertools.chain(\n\u001b[1;32m    724\u001b[0m                 \u001b[0m_global_forward_hooks\u001b[0m\u001b[0;34m.\u001b[0m\u001b[0mvalues\u001b[0m\u001b[0;34m(\u001b[0m\u001b[0;34m)\u001b[0m\u001b[0;34m,\u001b[0m\u001b[0;34m\u001b[0m\u001b[0;34m\u001b[0m\u001b[0m\n",
      "\u001b[0;32m<ipython-input-134-dc2a4734a64c>\u001b[0m in \u001b[0;36mforward\u001b[0;34m(self, x)\u001b[0m\n\u001b[1;32m     24\u001b[0m         \u001b[0mx\u001b[0m \u001b[0;34m=\u001b[0m \u001b[0mself\u001b[0m\u001b[0;34m.\u001b[0m\u001b[0mconv2\u001b[0m\u001b[0;34m(\u001b[0m\u001b[0mx\u001b[0m\u001b[0;34m)\u001b[0m\u001b[0;34m\u001b[0m\u001b[0;34m\u001b[0m\u001b[0m\n\u001b[1;32m     25\u001b[0m         \u001b[0mx\u001b[0m \u001b[0;34m=\u001b[0m \u001b[0mx\u001b[0m\u001b[0;34m.\u001b[0m\u001b[0mview\u001b[0m\u001b[0;34m(\u001b[0m\u001b[0mx\u001b[0m\u001b[0;34m.\u001b[0m\u001b[0msize\u001b[0m\u001b[0;34m(\u001b[0m\u001b[0;36m0\u001b[0m\u001b[0;34m)\u001b[0m\u001b[0;34m,\u001b[0m \u001b[0;34m-\u001b[0m\u001b[0;36m1\u001b[0m\u001b[0;34m)\u001b[0m\u001b[0;34m\u001b[0m\u001b[0;34m\u001b[0m\u001b[0m\n\u001b[0;32m---> 26\u001b[0;31m         \u001b[0mx\u001b[0m \u001b[0;34m=\u001b[0m \u001b[0mF\u001b[0m\u001b[0;34m.\u001b[0m\u001b[0mrelu\u001b[0m\u001b[0;34m(\u001b[0m\u001b[0mself\u001b[0m\u001b[0;34m.\u001b[0m\u001b[0mlinear1\u001b[0m\u001b[0;34m(\u001b[0m\u001b[0mx\u001b[0m\u001b[0;34m)\u001b[0m\u001b[0;34m)\u001b[0m\u001b[0;34m\u001b[0m\u001b[0;34m\u001b[0m\u001b[0m\n\u001b[0m\u001b[1;32m     27\u001b[0m         \u001b[0mx\u001b[0m \u001b[0;34m=\u001b[0m \u001b[0mself\u001b[0m\u001b[0;34m.\u001b[0m\u001b[0mdropout\u001b[0m\u001b[0;34m(\u001b[0m\u001b[0mx\u001b[0m\u001b[0;34m)\u001b[0m\u001b[0;34m\u001b[0m\u001b[0;34m\u001b[0m\u001b[0m\n\u001b[1;32m     28\u001b[0m         \u001b[0mx\u001b[0m \u001b[0;34m=\u001b[0m \u001b[0mF\u001b[0m\u001b[0;34m.\u001b[0m\u001b[0mrelu\u001b[0m\u001b[0;34m(\u001b[0m\u001b[0mself\u001b[0m\u001b[0;34m.\u001b[0m\u001b[0mlinear2\u001b[0m\u001b[0;34m(\u001b[0m\u001b[0mx\u001b[0m\u001b[0;34m)\u001b[0m\u001b[0;34m)\u001b[0m\u001b[0;34m\u001b[0m\u001b[0;34m\u001b[0m\u001b[0m\n",
      "\u001b[0;32m/usr/local/lib/python3.6/dist-packages/torch/nn/modules/module.py\u001b[0m in \u001b[0;36m_call_impl\u001b[0;34m(self, *input, **kwargs)\u001b[0m\n\u001b[1;32m    720\u001b[0m             \u001b[0mresult\u001b[0m \u001b[0;34m=\u001b[0m \u001b[0mself\u001b[0m\u001b[0;34m.\u001b[0m\u001b[0m_slow_forward\u001b[0m\u001b[0;34m(\u001b[0m\u001b[0;34m*\u001b[0m\u001b[0minput\u001b[0m\u001b[0;34m,\u001b[0m \u001b[0;34m**\u001b[0m\u001b[0mkwargs\u001b[0m\u001b[0;34m)\u001b[0m\u001b[0;34m\u001b[0m\u001b[0;34m\u001b[0m\u001b[0m\n\u001b[1;32m    721\u001b[0m         \u001b[0;32melse\u001b[0m\u001b[0;34m:\u001b[0m\u001b[0;34m\u001b[0m\u001b[0;34m\u001b[0m\u001b[0m\n\u001b[0;32m--> 722\u001b[0;31m             \u001b[0mresult\u001b[0m \u001b[0;34m=\u001b[0m \u001b[0mself\u001b[0m\u001b[0;34m.\u001b[0m\u001b[0mforward\u001b[0m\u001b[0;34m(\u001b[0m\u001b[0;34m*\u001b[0m\u001b[0minput\u001b[0m\u001b[0;34m,\u001b[0m \u001b[0;34m**\u001b[0m\u001b[0mkwargs\u001b[0m\u001b[0;34m)\u001b[0m\u001b[0;34m\u001b[0m\u001b[0;34m\u001b[0m\u001b[0m\n\u001b[0m\u001b[1;32m    723\u001b[0m         for hook in itertools.chain(\n\u001b[1;32m    724\u001b[0m                 \u001b[0m_global_forward_hooks\u001b[0m\u001b[0;34m.\u001b[0m\u001b[0mvalues\u001b[0m\u001b[0;34m(\u001b[0m\u001b[0;34m)\u001b[0m\u001b[0;34m,\u001b[0m\u001b[0;34m\u001b[0m\u001b[0;34m\u001b[0m\u001b[0m\n",
      "\u001b[0;32m/usr/local/lib/python3.6/dist-packages/torch/nn/modules/linear.py\u001b[0m in \u001b[0;36mforward\u001b[0;34m(self, input)\u001b[0m\n\u001b[1;32m     89\u001b[0m \u001b[0;34m\u001b[0m\u001b[0m\n\u001b[1;32m     90\u001b[0m     \u001b[0;32mdef\u001b[0m \u001b[0mforward\u001b[0m\u001b[0;34m(\u001b[0m\u001b[0mself\u001b[0m\u001b[0;34m,\u001b[0m \u001b[0minput\u001b[0m\u001b[0;34m:\u001b[0m \u001b[0mTensor\u001b[0m\u001b[0;34m)\u001b[0m \u001b[0;34m->\u001b[0m \u001b[0mTensor\u001b[0m\u001b[0;34m:\u001b[0m\u001b[0;34m\u001b[0m\u001b[0;34m\u001b[0m\u001b[0m\n\u001b[0;32m---> 91\u001b[0;31m         \u001b[0;32mreturn\u001b[0m \u001b[0mF\u001b[0m\u001b[0;34m.\u001b[0m\u001b[0mlinear\u001b[0m\u001b[0;34m(\u001b[0m\u001b[0minput\u001b[0m\u001b[0;34m,\u001b[0m \u001b[0mself\u001b[0m\u001b[0;34m.\u001b[0m\u001b[0mweight\u001b[0m\u001b[0;34m,\u001b[0m \u001b[0mself\u001b[0m\u001b[0;34m.\u001b[0m\u001b[0mbias\u001b[0m\u001b[0;34m)\u001b[0m\u001b[0;34m\u001b[0m\u001b[0;34m\u001b[0m\u001b[0m\n\u001b[0m\u001b[1;32m     92\u001b[0m \u001b[0;34m\u001b[0m\u001b[0m\n\u001b[1;32m     93\u001b[0m     \u001b[0;32mdef\u001b[0m \u001b[0mextra_repr\u001b[0m\u001b[0;34m(\u001b[0m\u001b[0mself\u001b[0m\u001b[0;34m)\u001b[0m \u001b[0;34m->\u001b[0m \u001b[0mstr\u001b[0m\u001b[0;34m:\u001b[0m\u001b[0;34m\u001b[0m\u001b[0;34m\u001b[0m\u001b[0m\n",
      "\u001b[0;32m/usr/local/lib/python3.6/dist-packages/torch/nn/functional.py\u001b[0m in \u001b[0;36mlinear\u001b[0;34m(input, weight, bias)\u001b[0m\n\u001b[1;32m   1667\u001b[0m     \"\"\"\n\u001b[1;32m   1668\u001b[0m     \u001b[0mtens_ops\u001b[0m \u001b[0;34m=\u001b[0m \u001b[0;34m(\u001b[0m\u001b[0minput\u001b[0m\u001b[0;34m,\u001b[0m \u001b[0mweight\u001b[0m\u001b[0;34m)\u001b[0m\u001b[0;34m\u001b[0m\u001b[0;34m\u001b[0m\u001b[0m\n\u001b[0;32m-> 1669\u001b[0;31m     \u001b[0;32mif\u001b[0m \u001b[0;32mnot\u001b[0m \u001b[0mtorch\u001b[0m\u001b[0;34m.\u001b[0m\u001b[0mjit\u001b[0m\u001b[0;34m.\u001b[0m\u001b[0mis_scripting\u001b[0m\u001b[0;34m(\u001b[0m\u001b[0;34m)\u001b[0m\u001b[0;34m:\u001b[0m\u001b[0;34m\u001b[0m\u001b[0;34m\u001b[0m\u001b[0m\n\u001b[0m\u001b[1;32m   1670\u001b[0m         \u001b[0;32mif\u001b[0m \u001b[0many\u001b[0m\u001b[0;34m(\u001b[0m\u001b[0;34m[\u001b[0m\u001b[0mtype\u001b[0m\u001b[0;34m(\u001b[0m\u001b[0mt\u001b[0m\u001b[0;34m)\u001b[0m \u001b[0;32mis\u001b[0m \u001b[0;32mnot\u001b[0m \u001b[0mTensor\u001b[0m \u001b[0;32mfor\u001b[0m \u001b[0mt\u001b[0m \u001b[0;32min\u001b[0m \u001b[0mtens_ops\u001b[0m\u001b[0;34m]\u001b[0m\u001b[0;34m)\u001b[0m \u001b[0;32mand\u001b[0m \u001b[0mhas_torch_function\u001b[0m\u001b[0;34m(\u001b[0m\u001b[0mtens_ops\u001b[0m\u001b[0;34m)\u001b[0m\u001b[0;34m:\u001b[0m\u001b[0;34m\u001b[0m\u001b[0;34m\u001b[0m\u001b[0m\n\u001b[1;32m   1671\u001b[0m             \u001b[0;32mreturn\u001b[0m \u001b[0mhandle_torch_function\u001b[0m\u001b[0;34m(\u001b[0m\u001b[0mlinear\u001b[0m\u001b[0;34m,\u001b[0m \u001b[0mtens_ops\u001b[0m\u001b[0;34m,\u001b[0m \u001b[0minput\u001b[0m\u001b[0;34m,\u001b[0m \u001b[0mweight\u001b[0m\u001b[0;34m,\u001b[0m \u001b[0mbias\u001b[0m\u001b[0;34m=\u001b[0m\u001b[0mbias\u001b[0m\u001b[0;34m)\u001b[0m\u001b[0;34m\u001b[0m\u001b[0;34m\u001b[0m\u001b[0m\n",
      "\u001b[0;31mKeyboardInterrupt\u001b[0m: "
     ]
    }
   ],
   "source": [
    "model = ModelAssess(encoder = AsResNetEncoder()).to(device)\n",
    "rmsprop_loss_info = fit(\n",
    "    model=model,\n",
    "    epochs=50,\n",
    "    train_data_loader=train_dataloader,\n",
    "    validation_data_loader=eval_dataloader,\n",
    "    optimizer=torch.optim.RMSprop(model.parameters(),momentum=0.9,lr=0.001),\n",
    "    device = 'cpu')\n",
    "\n",
    "# accuracy 0.8"
   ]
  },
  {
   "cell_type": "code",
   "execution_count": null,
   "metadata": {
    "colab": {
     "base_uri": "https://localhost:8080/",
     "height": 171
    },
    "id": "O5ELxVM-DLxX",
    "outputId": "524695ae-ef2b-4d21-d8eb-76f5200c2564"
   },
   "outputs": [
    {
     "ename": "NameError",
     "evalue": "ignored",
     "output_type": "error",
     "traceback": [
      "\u001b[0;31m---------------------------------------------------------------------------\u001b[0m",
      "\u001b[0;31mNameError\u001b[0m                                 Traceback (most recent call last)",
      "\u001b[0;32m<ipython-input-172-c427ed22f32b>\u001b[0m in \u001b[0;36m<module>\u001b[0;34m()\u001b[0m\n\u001b[0;32m----> 1\u001b[0;31m \u001b[0mplot_history\u001b[0m\u001b[0;34m(\u001b[0m\u001b[0msgd_momentum_loss_info\u001b[0m\u001b[0;34m.\u001b[0m\u001b[0mfull_train_losses\u001b[0m\u001b[0;34m,\u001b[0m \u001b[0msqd_momentum_loss_info\u001b[0m\u001b[0;34m.\u001b[0m\u001b[0meval_epoch_losses\u001b[0m\u001b[0;34m,\u001b[0m \u001b[0mtitle\u001b[0m\u001b[0;34m=\u001b[0m\u001b[0;34m'AsResNet loss, SGD Momentum'\u001b[0m\u001b[0;34m)\u001b[0m\u001b[0;34m\u001b[0m\u001b[0;34m\u001b[0m\u001b[0m\n\u001b[0m",
      "\u001b[0;31mNameError\u001b[0m: name 'sgd_momentum_loss_info' is not defined"
     ]
    }
   ],
   "source": [
    "plot_history(sgd_momentum_loss_info.full_train_losses, sqd_momentum_loss_info.eval_epoch_losses, title='AsResNet loss, SGD Momentum')"
   ]
  },
  {
   "cell_type": "code",
   "execution_count": null,
   "metadata": {
    "id": "n5HBmv1MDMx_"
   },
   "outputs": [],
   "source": [
    "plot_history(rmsprop_loss_info.all_train_acc, rmsprop_loss_info.eval_epoch_losses, title='AsResNet accuracy, RMSprop')"
   ]
  },
  {
   "cell_type": "code",
   "execution_count": null,
   "metadata": {
    "id": "DrE11ynnpFTm"
   },
   "outputs": [],
   "source": [
    "model = ModelAssess(encoder = VGGencoder()).to(device)\n",
    "sgd_momentum_loss_info = fit(\n",
    "    model=model,\n",
    "    epochs=50,\n",
    "    train_data_loader=train_dataloader,\n",
    "    validation_data_loader=eval_dataloader,\n",
    "    optimizer=torch.optim.SGD(model.parameters(),momentum=0.9,lr=0.001),\n",
    ")"
   ]
  },
  {
   "cell_type": "code",
   "execution_count": null,
   "metadata": {
    "id": "-Tyvgm28Kvz2"
   },
   "outputs": [],
   "source": [
    "model = ModelAssess(encoder = VGGencoder()).to(device)\n",
    "rmsprop_loss_info = fit(\n",
    "    model=model,\n",
    "    epochs=50,\n",
    "    train_data_loader=train_dataloader,\n",
    "    validation_data_loader=eval_dataloader,\n",
    "    optimizer=torch.optim.RMSprop(model.parameters(),momentum=0.9,lr=0.001),\n",
    ")"
   ]
  },
  {
   "cell_type": "code",
   "execution_count": null,
   "metadata": {
    "id": "zgiB8C3xHbQk"
   },
   "outputs": [],
   "source": [
    "plot_history(sgd_momentum_loss_info.full_train_losses, sqd_momentum_loss_info.eval_epoch_losses, title='VGG loss, SGD Momentum')"
   ]
  },
  {
   "cell_type": "code",
   "execution_count": null,
   "metadata": {
    "id": "rlcsYE7cHblW"
   },
   "outputs": [],
   "source": [
    "plot_history(rmsprop_loss_info.all_train_acc, rmsprop_loss_info.eval_epoch_losses, title='VGG accuracy, RMSprop')"
   ]
  },
  {
   "cell_type": "code",
   "execution_count": null,
   "metadata": {
    "id": "DULkr5Sf78FM"
   },
   "outputs": [],
   "source": [
    "model = ModelAssess(encoder = SimpleCNN().to(device)\n",
    "sgd_momentum_loss_info = fit(\n",
    "    model=model,\n",
    "    epochs=50,\n",
    "    train_data_loader=train_dataloader,\n",
    "    validation_data_loader=eval_dataloader,\n",
    "    optimizer=torch.optim.SGD(model.parameters(),momentum=0.9,lr=0.001),\n",
    ")"
   ]
  },
  {
   "cell_type": "code",
   "execution_count": null,
   "metadata": {
    "id": "w_Oj2u9n78CL"
   },
   "outputs": [],
   "source": [
    "model = ModelAssess(encoder = SimpleCNN()).to(device)\n",
    "rmsprop_loss_info = fit(\n",
    "    model=model,\n",
    "    epochs=50,\n",
    "    train_data_loader=train_dataloader,\n",
    "    validation_data_loader=eval_dataloader,\n",
    "    optimizer=torch.optim.RMSprop(model.parameters(),momentum=0.9,lr=0.001),\n",
    ")"
   ]
  },
  {
   "cell_type": "code",
   "execution_count": null,
   "metadata": {
    "id": "Z6cEfApb77_o"
   },
   "outputs": [],
   "source": [
    "plot_history(sgd_momentum_loss_info.full_train_losses, sqd_momentum_loss_info.eval_epoch_losses, title= 'SimpleCNN, SGD Momentum')"
   ]
  },
  {
   "cell_type": "code",
   "execution_count": null,
   "metadata": {
    "id": "QllPus557784"
   },
   "outputs": [],
   "source": [
    "plot_history(rmsprop_loss_info.all_train_acc, rmsprop_loss_info.eval_epoch_losses, title='SimpleCNN, RMSprop')"
   ]
  },
  {
   "cell_type": "markdown",
   "metadata": {
    "id": "Y2dVkGugNr53"
   },
   "source": [
    "К сожалению, ресурсы моего ноутбука и интернет дома не позволяют оценить history для всех моделей, однако исходя из материала, переданного нам на лекциях, хуже всего метрики качества будут у модели, составляенной только из полносвязных слоев. Скорее всего, она будет сильно переобучаться, потому что состоит только из linear слоев, и не может зафиксировать нелинейность. \n",
    "\n",
    "Скорее всего, лучше всех качество будет у VGG, т.к. в ней dropout применяется не один раз в конце, а после каждого слоя - тем самым, те наблюдения, на которых модель уже обучилась, выбрасываются, и не происходит сильного переобучения.\n",
    "\n",
    "Однако, в модели AsResNet больше слоев, и вероятно, по качеству она может быть близка к VGG. "
   ]
  }
 ],
 "metadata": {
  "colab": {
   "collapsed_sections": [],
   "name": "hw1_Smyslovskikh.ipynb",
   "provenance": []
  },
  "kernelspec": {
   "display_name": "Python 3",
   "language": "python",
   "name": "python3"
  },
  "language_info": {
   "codemirror_mode": {
    "name": "ipython",
    "version": 3
   },
   "file_extension": ".py",
   "mimetype": "text/x-python",
   "name": "python",
   "nbconvert_exporter": "python",
   "pygments_lexer": "ipython3",
   "version": "3.7.6"
  }
 },
 "nbformat": 4,
 "nbformat_minor": 1
}
